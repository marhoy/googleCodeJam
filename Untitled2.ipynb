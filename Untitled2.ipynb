{
 "cells": [
  {
   "cell_type": "code",
   "execution_count": 32,
   "metadata": {},
   "outputs": [],
   "source": [
    "import math"
   ]
  },
  {
   "cell_type": "code",
   "execution_count": 43,
   "metadata": {},
   "outputs": [],
   "source": [
    "def factors(n):\n",
    "    \"\"\"\n",
    "    Returns all factors of n not including 1 and n\n",
    "    \"\"\"\n",
    "    from functools import reduce\n",
    "    \n",
    "    return set(reduce(list.__add__, \n",
    "                ([i, n//i] for i in range(1, int(n**0.5) + 1) if n % i == 0))) - {1, n}"
   ]
  },
  {
   "cell_type": "code",
   "execution_count": 44,
   "metadata": {},
   "outputs": [],
   "source": [
    "from itertools import tee\n",
    "def pairwise(iterable):\n",
    "    \"s -> (s0,s1), (s1,s2), (s2, s3), ...\"\n",
    "    a, b = tee(iterable)\n",
    "    next(b, None)\n",
    "    return zip(a, b)"
   ]
  },
  {
   "cell_type": "code",
   "execution_count": 45,
   "metadata": {},
   "outputs": [],
   "source": [
    "def prime_list(numbers):\n",
    "    # Reconstruct the list of prime numbers\n",
    "    primes = []\n",
    "    for a, b in pairwise(numbers):\n",
    "        if a == b:\n",
    "            primes.append(int(math.sqrt(a)))\n",
    "        else:\n",
    "            primes.append(math.gcd(a, b))\n",
    "\n",
    "    # Add the first number\n",
    "    primes.insert(0, int(numbers[0] / primes[0]))\n",
    "\n",
    "    # Add last number\n",
    "    primes.append(int(numbers[-1] / primes[-1]))\n",
    "\n",
    "    return primes"
   ]
  },
  {
   "cell_type": "code",
   "execution_count": 46,
   "metadata": {},
   "outputs": [],
   "source": [
    "def factors(n):\n",
    "    \"\"\"\n",
    "    Returns all factors of n not including 1 and n\n",
    "    \"\"\"\n",
    "    from functools import reduce\n",
    "    \n",
    "    return set(reduce(list.__add__, \n",
    "                ([i, n//i] for i in range(1, int(n**0.5) + 1) if n % i == 0))) - {1, n}"
   ]
  },
  {
   "cell_type": "code",
   "execution_count": 2,
   "metadata": {},
   "outputs": [],
   "source": [
    "numbers = numbers = list(map(int, '5650129 5650129 64823167 64823167 90760991 2689190507 528710503 517164737 6161817713 6811710551 2986039813 3804802151 5863775653 201282337 108460691 2931499391 5916207103 6398671949 1033419649 359388019 2019961813 1191409423 1763635873 8819238977 8629272923 8235293483 2819572177 442443017 49821767 11095561 11095561 297934633 8933298511 1994843321 298736161 158738641 1033419649 8412929827 6084995171 4851924239 6685113749 7390199123 2076877547 64823167 214003687 5916207103 1943856253 1129491323 3371597083 3462193909 2338856059 198697481 108460691 244435427 254209541 3227719571 5759720359'.split()))"
   ]
  },
  {
   "cell_type": "code",
   "execution_count": 17,
   "metadata": {},
   "outputs": [],
   "source": [
    "numbers = list(map(int, '217 1891 4819 2291 2987 3811 1739 2491 4717 445 65 1079 8383 5353 901 187 649 1003 697 3239 7663 291 123 779 1007 3551 1943 2117 1679 989 3053'.split()))"
   ]
  },
  {
   "cell_type": "code",
   "execution_count": 27,
   "metadata": {},
   "outputs": [],
   "source": [
    "numbers = [27363361, 27363361, 4007526641, 269687160331, 20456292331, 57788309617, 518503671353, 57932121491, 75587119373, 99015187459, 25410031901, 31883569541, 32618825843, 80295997867, 360552672941, 650309781971, 4241572043, 425536619, 44761555109, 138273912577, 76657395959, 28841278709, 32891672189, 201525025021, 24789257419, 30811259551, 522525640061, 567609004267, 33469646297, 1831240849, 1831240849, 30811259551, 3766356617, 223850183, 6228392771, 25410031901, 91027401617, 95221535173, 139912553597, 344415159493, 49950495367, 89110195763, 143245668263, 16886945123, 73947950563, 275325832709, 255469736183, 493707179731, 55341480653, 4727271739, 31975054751, 138273912577, 87422959439, 201525025021, 576066241501, 303353074009, 247348275091, 65962080697, 6617659801, 6617659801]"
   ]
  },
  {
   "cell_type": "code",
   "execution_count": 90,
   "metadata": {},
   "outputs": [],
   "source": [
    "numbers = [10182481, 10182481, 2288811761, 355716924301, 439151363879, 133298326297, 25462807483, 96373274797, 119667950639, 144093993517, 2189156831, 1418964307, 35877874391, 28151831677, 260836840883, 130290961973, 159762186139, 326073843673, 20078073289, 17448281033, 279106033363, 275131586417, 218735390387, 193316550551, 114594652817, 58767219613, 38950490147, 13291273451, 2221142641, 2221142641, 2221142641, 2660102147, 32158229921, 26851606363, 42551501617, 648084948019, 202434084257, 202284050149, 305199527771, 1357773691, 2385454387, 103247339941, 94751180633, 244040562643, 95802251191, 238482627353, 308970914771, 73285900003, 93398623049, 75217559227, 83887224581, 454595647081, 279330142579, 94201180499, 46534416823, 12145454039, 14062159387, 14062159387, 6509746489, 6509746489]"
   ]
  },
  {
   "cell_type": "code",
   "execution_count": 91,
   "metadata": {},
   "outputs": [
    {
     "name": "stdout",
     "output_type": "stream",
     "text": [
      "[10182481, 10182481, 2288811761, 355716924301, 439151363879, 133298326297, 25462807483, 96373274797, 119667950639, 144093993517, 2189156831, 1418964307, 35877874391, 28151831677, 260836840883, 130290961973, 159762186139, 326073843673, 20078073289, 17448281033, 279106033363, 275131586417, 218735390387, 193316550551, 114594652817, 58767219613, 38950490147, 13291273451, 2221142641, 2221142641, 2221142641, 2660102147, 32158229921, 26851606363, 42551501617, 648084948019, 202434084257, 202284050149, 305199527771, 1357773691, 2385454387, 103247339941, 94751180633, 244040562643, 95802251191, 238482627353, 308970914771, 73285900003, 93398623049, 75217559227, 83887224581, 454595647081, 279330142579, 94201180499, 46534416823, 12145454039, 14062159387, 14062159387, 6509746489, 6509746489]\n"
     ]
    }
   ],
   "source": [
    "print(numbers)"
   ]
  },
  {
   "cell_type": "code",
   "execution_count": 99,
   "metadata": {},
   "outputs": [
    {
     "data": {
      "text/plain": [
       "[0, 0, 3191]"
      ]
     },
     "execution_count": 99,
     "metadata": {},
     "output_type": "execute_result"
    }
   ],
   "source": [
    "primes = [0]\n",
    "for i, (a, b) in enumerate(pairwise(numbers)):\n",
    "    if a == b:\n",
    "        primes.append(0)\n",
    "        continue\n",
    "    first_prime = math.gcd(a, b)\n",
    "    primes.append(first_prime)\n",
    "    break\n",
    "primes"
   ]
  },
  {
   "cell_type": "code",
   "execution_count": 100,
   "metadata": {},
   "outputs": [
    {
     "data": {
      "text/plain": [
       "[10182481, 10182481, 2288811761, 355716924301]"
      ]
     },
     "execution_count": 100,
     "metadata": {},
     "output_type": "execute_result"
    }
   ],
   "source": [
    "numbers[:4]"
   ]
  },
  {
   "cell_type": "code",
   "execution_count": 101,
   "metadata": {},
   "outputs": [
    {
     "data": {
      "text/plain": [
       "[0, 0, 3191]"
      ]
     },
     "execution_count": 101,
     "metadata": {},
     "output_type": "execute_result"
    }
   ],
   "source": [
    "primes[:4]"
   ]
  },
  {
   "cell_type": "code",
   "execution_count": 111,
   "metadata": {},
   "outputs": [
    {
     "name": "stdout",
     "output_type": "stream",
     "text": [
      "1\n",
      "0\n"
     ]
    }
   ],
   "source": [
    "for j in range(i+1, len(numbers)):\n",
    "    primes.append(int(numbers[j]/primes[j]))\n",
    "\n",
    "for j in range(i, -1, -1):\n",
    "    print(j)\n",
    "    primes[j] = int(numbers[j]/primes[j+1])"
   ]
  },
  {
   "cell_type": "code",
   "execution_count": 114,
   "metadata": {},
   "outputs": [
    {
     "data": {
      "text/plain": [
       "26"
      ]
     },
     "execution_count": 114,
     "metadata": {},
     "output_type": "execute_result"
    }
   ],
   "source": [
    "len(set(primes))"
   ]
  },
  {
   "cell_type": "code",
   "execution_count": 95,
   "metadata": {},
   "outputs": [
    {
     "data": {
      "text/plain": [
       "61"
      ]
     },
     "execution_count": 95,
     "metadata": {},
     "output_type": "execute_result"
    }
   ],
   "source": [
    "len(primes)"
   ]
  },
  {
   "cell_type": "code",
   "execution_count": 78,
   "metadata": {},
   "outputs": [
    {
     "data": {
      "text/plain": [
       "{3191, 717271}"
      ]
     },
     "execution_count": 78,
     "metadata": {},
     "output_type": "execute_result"
    }
   ],
   "source": [
    "factors(2288811761)"
   ]
  },
  {
   "cell_type": "code",
   "execution_count": 56,
   "metadata": {},
   "outputs": [
    {
     "data": {
      "text/plain": [
       "{80683}"
      ]
     },
     "execution_count": 56,
     "metadata": {},
     "output_type": "execute_result"
    }
   ],
   "source": [
    "factors(6509746489)"
   ]
  },
  {
   "cell_type": "code",
   "execution_count": 49,
   "metadata": {},
   "outputs": [
    {
     "name": "stdout",
     "output_type": "stream",
     "text": [
      "[3191, 3191, 3191, 717271, 495931, 885509, 150533, 169151, 569747, 210037, 686041, 3191, 444677, 80683, 348919, 747557, 174289, 916651, 355723, 56443, 309131, 902873, 304729, 717803, 269317, 425501, 138113, 282019, 47129, 47129, 47129, 47129, 56443, 569747, 47129, 902873, 717803, 282019, 717271, 425501, 3191, 747557, 138113, 686041, 355723, 269317, 885509, 348919, 210037, 444677, 169151, 495931, 916651, 304729, 309131, 150533, 80683, 118583, 80683, 80683, 80683]\n"
     ]
    }
   ],
   "source": [
    "primes = prime_list(numbers)\n",
    "print(primes)"
   ]
  },
  {
   "cell_type": "code",
   "execution_count": 52,
   "metadata": {},
   "outputs": [],
   "source": [
    "real_primes = [210037, 717271, 56443, 885509, 444677, 747557, 686041, 150533, 174289, 138113, 348919, 569747, 304729, 425501, 902873, 495931, 269317, 169151, 80683, 47129, 355723, 717803, 309131, 282019, 3191, 916651]"
   ]
  },
  {
   "cell_type": "code",
   "execution_count": 53,
   "metadata": {},
   "outputs": [
    {
     "data": {
      "text/plain": [
       "{118583}"
      ]
     },
     "execution_count": 53,
     "metadata": {},
     "output_type": "execute_result"
    }
   ],
   "source": [
    "set(primes) - set(real_primes)"
   ]
  },
  {
   "cell_type": "code",
   "execution_count": 50,
   "metadata": {},
   "outputs": [
    {
     "data": {
      "text/plain": [
       "27"
      ]
     },
     "execution_count": 50,
     "metadata": {},
     "output_type": "execute_result"
    }
   ],
   "source": [
    "len(set(primes))"
   ]
  },
  {
   "cell_type": "code",
   "execution_count": 51,
   "metadata": {},
   "outputs": [
    {
     "data": {
      "text/plain": [
       "60"
      ]
     },
     "execution_count": 51,
     "metadata": {},
     "output_type": "execute_result"
    }
   ],
   "source": [
    "len(numbers)"
   ]
  },
  {
   "cell_type": "code",
   "execution_count": 41,
   "metadata": {},
   "outputs": [
    {
     "data": {
      "text/plain": [
       "61"
      ]
     },
     "execution_count": 41,
     "metadata": {},
     "output_type": "execute_result"
    }
   ],
   "source": [
    "len(primes)"
   ]
  },
  {
   "cell_type": "code",
   "execution_count": 42,
   "metadata": {},
   "outputs": [
    {
     "data": {
      "text/plain": [
       "{3191,\n",
       " 47129,\n",
       " 56443,\n",
       " 80683,\n",
       " 118583,\n",
       " 138113,\n",
       " 150533,\n",
       " 169151,\n",
       " 174289,\n",
       " 210037,\n",
       " 269317,\n",
       " 282019,\n",
       " 304729,\n",
       " 309131,\n",
       " 348919,\n",
       " 355723,\n",
       " 425501,\n",
       " 444677,\n",
       " 495931,\n",
       " 569747,\n",
       " 686041,\n",
       " 717271,\n",
       " 717803,\n",
       " 747557,\n",
       " 885509,\n",
       " 902873,\n",
       " 916651}"
      ]
     },
     "execution_count": 42,
     "metadata": {},
     "output_type": "execute_result"
    }
   ],
   "source": [
    "set(primes)"
   ]
  },
  {
   "cell_type": "code",
   "execution_count": 13,
   "metadata": {},
   "outputs": [
    {
     "data": {
      "text/plain": [
       "[2377,\n",
       " 2377,\n",
       " 2377,\n",
       " 8051,\n",
       " 2377,\n",
       " 38183,\n",
       " 70429,\n",
       " 7507,\n",
       " 68891,\n",
       " 89443,\n",
       " 76157,\n",
       " 39209,\n",
       " 97039,\n",
       " 60427,\n",
       " 3331,\n",
       " 32561,\n",
       " 90031,\n",
       " 65713,\n",
       " 97373,\n",
       " 10613,\n",
       " 33863,\n",
       " 59651,\n",
       " 19973,\n",
       " 88301,\n",
       " 99877,\n",
       " 86399,\n",
       " 95317,\n",
       " 29581,\n",
       " 14957,\n",
       " 3331,\n",
       " 3331,\n",
       " 3331,\n",
       " 89443,\n",
       " 99877,\n",
       " 19973,\n",
       " 14957,\n",
       " 10613,\n",
       " 97373,\n",
       " 86399,\n",
       " 70429,\n",
       " 68891,\n",
       " 97039,\n",
       " 76157,\n",
       " 27271,\n",
       " 2377,\n",
       " 90031,\n",
       " 65713,\n",
       " 29581,\n",
       " 38183,\n",
       " 88301,\n",
       " 39209,\n",
       " 59651,\n",
       " 3331,\n",
       " 32561,\n",
       " 7507,\n",
       " 33863,\n",
       " 95317,\n",
       " 60427]"
      ]
     },
     "execution_count": 13,
     "metadata": {},
     "output_type": "execute_result"
    }
   ],
   "source": [
    "primes"
   ]
  },
  {
   "cell_type": "code",
   "execution_count": null,
   "metadata": {},
   "outputs": [],
   "source": []
  }
 ],
 "metadata": {
  "kernelspec": {
   "display_name": "Python 3",
   "language": "python",
   "name": "python3"
  },
  "language_info": {
   "codemirror_mode": {
    "name": "ipython",
    "version": 3
   },
   "file_extension": ".py",
   "mimetype": "text/x-python",
   "name": "python",
   "nbconvert_exporter": "python",
   "pygments_lexer": "ipython3",
   "version": "3.5.3"
  }
 },
 "nbformat": 4,
 "nbformat_minor": 2
}
