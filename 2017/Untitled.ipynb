{
 "cells": [
  {
   "cell_type": "code",
   "execution_count": 142,
   "metadata": {
    "collapsed": true
   },
   "outputs": [],
   "source": [
    "import math\n",
    "import decimal\n",
    "from decimal import Decimal\n",
    "decimal.getcontext().prec = 100"
   ]
  },
  {
   "cell_type": "code",
   "execution_count": 143,
   "metadata": {
    "collapsed": false
   },
   "outputs": [],
   "source": [
    "EXP_TABLE = [2**Decimal(i) for i in range(61)]"
   ]
  },
  {
   "cell_type": "code",
   "execution_count": 168,
   "metadata": {
    "collapsed": true
   },
   "outputs": [],
   "source": [
    "def ceil_log_2(number):\n",
    "    for i in range(len(EXP_TABLE)):\n",
    "        #print(i, EXP_TABLE[i])\n",
    "        if (number <= EXP_TABLE[i]):\n",
    "            break\n",
    "    return i, EXP_TABLE[i]"
   ]
  },
  {
   "cell_type": "code",
   "execution_count": 182,
   "metadata": {
    "collapsed": true
   },
   "outputs": [],
   "source": [
    "n = Decimal(144115188075855872) + 1"
   ]
  },
  {
   "cell_type": "code",
   "execution_count": 183,
   "metadata": {
    "collapsed": false
   },
   "outputs": [
    {
     "data": {
      "text/plain": [
       "(58, Decimal('288230376151711744'))"
      ]
     },
     "execution_count": 183,
     "metadata": {},
     "output_type": "execute_result"
    }
   ],
   "source": [
    "ceil_log_2(Decimal(n))"
   ]
  },
  {
   "cell_type": "code",
   "execution_count": 184,
   "metadata": {
    "collapsed": false
   },
   "outputs": [
    {
     "data": {
      "text/plain": [
       "(57, 144115188075855872)"
      ]
     },
     "execution_count": 184,
     "metadata": {},
     "output_type": "execute_result"
    }
   ],
   "source": [
    "(math.ceil(math.log2(n)), 2**math.ceil(math.log2(n)))"
   ]
  },
  {
   "cell_type": "markdown",
   "metadata": {},
   "source": []
  },
  {
   "cell_type": "code",
   "execution_count": 139,
   "metadata": {
    "collapsed": false
   },
   "outputs": [
    {
     "data": {
      "text/plain": [
       "[Decimal('1'),\n",
       " Decimal('2'),\n",
       " Decimal('4'),\n",
       " Decimal('8'),\n",
       " Decimal('16'),\n",
       " Decimal('32'),\n",
       " Decimal('64'),\n",
       " Decimal('128'),\n",
       " Decimal('256'),\n",
       " Decimal('512'),\n",
       " Decimal('1024'),\n",
       " Decimal('2048'),\n",
       " Decimal('4096'),\n",
       " Decimal('8192'),\n",
       " Decimal('16384'),\n",
       " Decimal('32768'),\n",
       " Decimal('65536'),\n",
       " Decimal('131072'),\n",
       " Decimal('262144'),\n",
       " Decimal('524288'),\n",
       " Decimal('1048576'),\n",
       " Decimal('2097152'),\n",
       " Decimal('4194304'),\n",
       " Decimal('8388608'),\n",
       " Decimal('16777216'),\n",
       " Decimal('33554432'),\n",
       " Decimal('67108864'),\n",
       " Decimal('134217728'),\n",
       " Decimal('268435456'),\n",
       " Decimal('536870912'),\n",
       " Decimal('1073741824'),\n",
       " Decimal('2147483648'),\n",
       " Decimal('4294967296'),\n",
       " Decimal('8589934592'),\n",
       " Decimal('17179869184'),\n",
       " Decimal('34359738368'),\n",
       " Decimal('68719476736'),\n",
       " Decimal('137438953472'),\n",
       " Decimal('274877906944'),\n",
       " Decimal('549755813888'),\n",
       " Decimal('1099511627776'),\n",
       " Decimal('2199023255552'),\n",
       " Decimal('4398046511104'),\n",
       " Decimal('8796093022208'),\n",
       " Decimal('17592186044416'),\n",
       " Decimal('35184372088832'),\n",
       " Decimal('70368744177664'),\n",
       " Decimal('140737488355328'),\n",
       " Decimal('281474976710656'),\n",
       " Decimal('562949953421312'),\n",
       " Decimal('1125899906842624'),\n",
       " Decimal('2251799813685248'),\n",
       " Decimal('4503599627370496'),\n",
       " Decimal('9007199254740992'),\n",
       " Decimal('18014398509481984'),\n",
       " Decimal('36028797018963968'),\n",
       " Decimal('72057594037927936'),\n",
       " Decimal('144115188075855872'),\n",
       " Decimal('288230376151711744'),\n",
       " Decimal('576460752303423488'),\n",
       " Decimal('1152921504606846976')]"
      ]
     },
     "execution_count": 139,
     "metadata": {},
     "output_type": "execute_result"
    }
   ],
   "source": [
    "EXP_TABLE"
   ]
  },
  {
   "cell_type": "code",
   "execution_count": 186,
   "metadata": {
    "collapsed": false
   },
   "outputs": [
    {
     "data": {
      "text/plain": [
       "61"
      ]
     },
     "execution_count": 186,
     "metadata": {},
     "output_type": "execute_result"
    }
   ],
   "source": [
    "len(EXP_TABLE)"
   ]
  },
  {
   "cell_type": "code",
   "execution_count": null,
   "metadata": {
    "collapsed": true
   },
   "outputs": [],
   "source": []
  },
  {
   "cell_type": "code",
   "execution_count": null,
   "metadata": {
    "collapsed": true
   },
   "outputs": [],
   "source": []
  },
  {
   "cell_type": "code",
   "execution_count": null,
   "metadata": {
    "collapsed": true
   },
   "outputs": [],
   "source": []
  },
  {
   "cell_type": "code",
   "execution_count": 78,
   "metadata": {
    "collapsed": true
   },
   "outputs": [],
   "source": [
    "s = '---+-++-'"
   ]
  },
  {
   "cell_type": "raw",
   "metadata": {},
   "source": [
    "0 ---+-++-\n",
    "1 ++++-++-\n",
    "2 ++++---+\n",
    "3 ++++++++"
   ]
  },
  {
   "cell_type": "raw",
   "metadata": {},
   "source": [
    "0 -++++---+ K=2\n",
    "1 ---++---+\n",
    "2 --------+\n",
    "3 ++------+\n",
    "4 ++++----+\n",
    "5 ++++++--+\n",
    "6 +++++++++\n",
    "\n",
    "0 -++++---+ K=2\n",
    "\n",
    "\n",
    "\n",
    "-++++--+-\n",
    "-+++++++-\n",
    "---+++++-\n",
    "--"
   ]
  },
  {
   "cell_type": "code",
   "execution_count": null,
   "metadata": {
    "collapsed": true
   },
   "outputs": [],
   "source": [
    "0 -++++---+ K=2\n",
    "1 +-+++---+\n",
    "2 ++-++---+\n",
    "3 +++-+---+\n",
    "4 ++++----+\n",
    "5 ++++++--+\n",
    "6 +++++++++\n",
    "\n"
   ]
  },
  {
   "cell_type": "code",
   "execution_count": null,
   "metadata": {
    "collapsed": true
   },
   "outputs": [],
   "source": [
    "-+-+- K=4\n",
    "+-+--\n",
    "++-++\n"
   ]
  },
  {
   "cell_type": "code",
   "execution_count": 134,
   "metadata": {
    "collapsed": false
   },
   "outputs": [
    {
     "data": {
      "text/plain": [
       "2"
      ]
     },
     "execution_count": 134,
     "metadata": {},
     "output_type": "execute_result"
    }
   ],
   "source": [
    "'++-++'.find('-')"
   ]
  },
  {
   "cell_type": "code",
   "execution_count": 135,
   "metadata": {
    "collapsed": false
   },
   "outputs": [
    {
     "data": {
      "text/plain": [
       "6"
      ]
     },
     "execution_count": 135,
     "metadata": {},
     "output_type": "execute_result"
    }
   ],
   "source": [
    "2+4"
   ]
  },
  {
   "cell_type": "code",
   "execution_count": null,
   "metadata": {
    "collapsed": true
   },
   "outputs": [],
   "source": [
    "---+-++- k=2\n",
    "++++-++-\n",
    "+++++---\n",
    "++++++++"
   ]
  },
  {
   "cell_type": "code",
   "execution_count": null,
   "metadata": {
    "collapsed": true
   },
   "outputs": [],
   "source": [
    "-++++++++- K=2\n",
    "1+-+++++++-\n",
    "2++-++++++-\n",
    "3+++-+++++-\n",
    "4++++-++++-\n",
    "5+++++-+++-\n",
    "6++++++-++-\n",
    "7+++++++-+-\n",
    "8++++++++--\n",
    "9++++++++++\n"
   ]
  },
  {
   "cell_type": "code",
   "execution_count": 130,
   "metadata": {
    "collapsed": false
   },
   "outputs": [
    {
     "ename": "SyntaxError",
     "evalue": "can't assign to operator (<ipython-input-130-f28637e48a4c>, line 1)",
     "output_type": "error",
     "traceback": [
      "\u001b[0;36m  File \u001b[0;32m\"<ipython-input-130-f28637e48a4c>\"\u001b[0;36m, line \u001b[0;32m1\u001b[0m\n\u001b[0;31m    -++++++++- K=2\u001b[0m\n\u001b[0m                  ^\u001b[0m\n\u001b[0;31mSyntaxError\u001b[0m\u001b[0;31m:\u001b[0m can't assign to operator\n"
     ]
    }
   ],
   "source": [
    "-++++++++- K=2\n",
    "1---++++++-\n",
    "2-----++++-\n",
    "3-------++-\n",
    "4----------\n",
    "5++--------\n",
    "6++++------\n",
    "7++++++----\n",
    "8++++++++--\n",
    "9++++++++++"
   ]
  },
  {
   "cell_type": "code",
   "execution_count": 131,
   "metadata": {
    "collapsed": true
   },
   "outputs": [],
   "source": [
    "s = '-++++++++-'"
   ]
  },
  {
   "cell_type": "code",
   "execution_count": 133,
   "metadata": {
    "collapsed": false
   },
   "outputs": [
    {
     "data": {
      "text/plain": [
       "-1"
      ]
     },
     "execution_count": 133,
     "metadata": {},
     "output_type": "execute_result"
    }
   ],
   "source": [
    "'++++'.find('-')"
   ]
  },
  {
   "cell_type": "code",
   "execution_count": 126,
   "metadata": {
    "collapsed": true
   },
   "outputs": [],
   "source": [
    "def tidyness(string):\n",
    "    tidy_index = string.count('-+') + string.count('+-')\n",
    "    num_plusses = string.count('+')\n",
    "    return tidy_index, num_plusses\n",
    "\n",
    "\n",
    "def flip(string):\n",
    "    l = ['-' if c == '+' else '+' for c in string]\n",
    "    return ''.join(l)\n",
    "\n",
    "\n",
    "def find_best_index(string, K):\n",
    "    best_tidy = len(string)\n",
    "    best_num_plusses = 0\n",
    "    best_idx = len(string)\n",
    "    best_candidate = ''\n",
    "    for i in range(len(string)-(K-1)):\n",
    "        substr = string[i:i+K]\n",
    "        # print(i, string[:i], substr, string[i+K:])\n",
    "        candidate = string[:i] + flip(substr) + string[i+K:]\n",
    "        tidy_number, num_plusses = tidyness(candidate)\n",
    "        # print(candidate, tidy_number)\n",
    "        if (tidy_number < best_tidy) or ((tidy_number == best_tidy) and (num_plusses > best_num_plusses)):\n",
    "            best_tidy = tidy_number\n",
    "            best_idx = i\n",
    "            best_candidate = candidate\n",
    "    return best_idx, best_candidate, best_tidy\n"
   ]
  },
  {
   "cell_type": "code",
   "execution_count": 118,
   "metadata": {
    "collapsed": true
   },
   "outputs": [],
   "source": [
    "s = '++++++'"
   ]
  },
  {
   "cell_type": "code",
   "execution_count": 128,
   "metadata": {
    "collapsed": true
   },
   "outputs": [],
   "source": [
    "tidy = tidyness(s)"
   ]
  },
  {
   "cell_type": "code",
   "execution_count": 129,
   "metadata": {
    "collapsed": false
   },
   "outputs": [
    {
     "data": {
      "text/plain": [
       "(0, 8)"
      ]
     },
     "execution_count": 129,
     "metadata": {},
     "output_type": "execute_result"
    }
   ],
   "source": [
    "tidy"
   ]
  },
  {
   "cell_type": "code",
   "execution_count": 125,
   "metadata": {
    "collapsed": false
   },
   "outputs": [
    {
     "name": "stdout",
     "output_type": "stream",
     "text": [
      "new s ++++++++\n"
     ]
    }
   ],
   "source": [
    "i, s = find_best_index(s)\n",
    "print(\"new s\", s)"
   ]
  },
  {
   "cell_type": "code",
   "execution_count": null,
   "metadata": {
    "collapsed": true
   },
   "outputs": [],
   "source": [
    "---+-++-\n",
    "----+-+-"
   ]
  },
  {
   "cell_type": "code",
   "execution_count": 5,
   "metadata": {
    "collapsed": true
   },
   "outputs": [],
   "source": [
    "import math\n",
    "\n",
    "N = 1000\n",
    "K = 500\n"
   ]
  },
  {
   "cell_type": "code",
   "execution_count": 6,
   "metadata": {
    "collapsed": false
   },
   "outputs": [],
   "source": [
    "def quick_solution(N, K):\n",
    "    segments = [N]\n",
    "    for k in range(1, K+1):\n",
    "        segments = sorted(segments, reverse=True)\n",
    "        largest = segments.pop(0)\n",
    "        new = (largest - 1)/2\n",
    "        large = math.ceil(new)\n",
    "        small = math.floor(new)\n",
    "        segments.append(large)\n",
    "        segments.append(small)\n",
    "        print(k, large, small)\n",
    "        if (large, small) == (0, 0):\n",
    "            break\n",
    "    return large, small"
   ]
  },
  {
   "cell_type": "code",
   "execution_count": 45,
   "metadata": {
    "collapsed": false
   },
   "outputs": [
    {
     "data": {
      "text/plain": [
       "0.0"
      ]
     },
     "execution_count": 45,
     "metadata": {},
     "output_type": "execute_result"
    }
   ],
   "source": [
    "math.log(1,2)"
   ]
  },
  {
   "cell_type": "code",
   "execution_count": 77,
   "metadata": {
    "collapsed": false,
    "scrolled": true
   },
   "outputs": [
    {
     "name": "stdout",
     "output_type": "stream",
     "text": [
      "1 50 49 49.5\n",
      "2 25 24 24.5\n",
      "3 24 24 24.25\n",
      "4 12 12 12.0\n",
      "5 12 11 11.875\n",
      "6 12 11 11.75\n",
      "7 12 11 11.625\n",
      "8 6 5 5.75\n",
      "9 6 5 5.6875\n",
      "10 6 5 5.625\n",
      "11 6 5 5.5625\n",
      "12 6 5 5.5\n",
      "13 5 5 5.4375\n",
      "14 5 5 5.375\n",
      "15 5 5 5.3125\n",
      "16 3 2 2.625\n",
      "17 3 2 2.59375\n",
      "18 3 2 2.5625\n",
      "19 3 2 2.53125\n",
      "20 3 2 2.5\n",
      "21 2 2 2.46875\n",
      "22 2 2 2.4375\n",
      "23 2 2 2.40625\n",
      "24 2 2 2.375\n",
      "25 2 2 2.34375\n",
      "26 2 2 2.3125\n",
      "27 2 2 2.28125\n",
      "28 2 2 2.25\n",
      "29 2 2 2.21875\n",
      "30 2 2 2.1875\n",
      "31 2 2 2.15625\n",
      "32 1 1 1.0625\n"
     ]
    }
   ],
   "source": [
    "N = 100\n",
    "for k in range(1,33):\n",
    "    parts = math.ceil(math.log(k+1,2))\n",
    "    number = (N-k)/2**parts\n",
    "    fraction = number - math.floor(number)\n",
    "    if fraction >= 0.5:\n",
    "        large = math.ceil(number)\n",
    "    else:\n",
    "        large = math.floor(number)\n",
    "    small = math.floor(number)\n",
    "        \n",
    "    print(k, large, small, number)"
   ]
  },
  {
   "cell_type": "code",
   "execution_count": 69,
   "metadata": {
    "collapsed": false,
    "scrolled": true
   },
   "outputs": [
    {
     "name": "stdout",
     "output_type": "stream",
     "text": [
      "1 50 49\n",
      "2 25 24\n",
      "3 24 24\n",
      "4 12 12\n",
      "5 12 11\n",
      "6 12 11\n",
      "7 12 11\n",
      "8 6 5\n",
      "9 6 5\n",
      "10 6 5\n",
      "11 6 5\n",
      "12 6 5\n",
      "13 5 5\n",
      "14 5 5\n",
      "15 5 5\n",
      "16 3 2\n",
      "17 3 2\n",
      "18 3 2\n",
      "19 3 2\n",
      "20 3 2\n",
      "21 2 2\n",
      "22 2 2\n",
      "23 2 2\n",
      "24 2 2\n",
      "25 2 2\n",
      "26 2 2\n",
      "27 2 2\n",
      "28 2 2\n",
      "29 2 2\n",
      "30 2 2\n",
      "31 2 2\n",
      "32 1 1\n",
      "33 1 1\n",
      "34 1 1\n",
      "35 1 1\n",
      "36 1 1\n",
      "37 1 0\n",
      "38 1 0\n",
      "39 1 0\n",
      "40 1 0\n",
      "41 1 0\n",
      "42 1 0\n",
      "43 1 0\n",
      "44 1 0\n",
      "45 1 0\n",
      "46 1 0\n",
      "47 1 0\n",
      "48 1 0\n",
      "49 1 0\n",
      "50 1 0\n",
      "51 1 0\n",
      "52 1 0\n",
      "53 1 0\n",
      "54 1 0\n",
      "55 1 0\n",
      "56 1 0\n",
      "57 1 0\n",
      "58 1 0\n",
      "59 1 0\n",
      "60 1 0\n",
      "61 1 0\n",
      "62 1 0\n",
      "63 1 0\n",
      "64 0 0\n"
     ]
    },
    {
     "data": {
      "text/plain": [
       "(0, 0)"
      ]
     },
     "execution_count": 69,
     "metadata": {},
     "output_type": "execute_result"
    }
   ],
   "source": [
    "quick_solution(100, 100)"
   ]
  },
  {
   "cell_type": "code",
   "execution_count": 74,
   "metadata": {
    "collapsed": false
   },
   "outputs": [
    {
     "data": {
      "text/plain": [
       "24"
      ]
     },
     "execution_count": 74,
     "metadata": {},
     "output_type": "execute_result"
    }
   ],
   "source": [
    "round(24.5)"
   ]
  },
  {
   "cell_type": "code",
   "execution_count": null,
   "metadata": {
    "collapsed": false
   },
   "outputs": [],
   "source": [
    "list(range(1,10))"
   ]
  },
  {
   "cell_type": "code",
   "execution_count": null,
   "metadata": {
    "collapsed": false
   },
   "outputs": [],
   "source": [
    "sorted([2,3,1], reverse=True)"
   ]
  },
  {
   "cell_type": "code",
   "execution_count": 9,
   "metadata": {
    "collapsed": true
   },
   "outputs": [],
   "source": [
    "list.sort?"
   ]
  },
  {
   "cell_type": "code",
   "execution_count": null,
   "metadata": {
    "collapsed": true
   },
   "outputs": [],
   "source": [
    "import numpy as np\n",
    "\n",
    "stalls = 'o' + ...o'"
   ]
  },
  {
   "cell_type": "code",
   "execution_count": null,
   "metadata": {
    "collapsed": true
   },
   "outputs": [],
   "source": [
    "def find_best_stall(Ls, Rs):\n",
    "    minimum = np.minimum(L_s, R_s)\n",
    "    indices = np.argwhere(minimum == np.nanmax(minimum)).flatten()\n",
    "    if indices.shape == (1, 1):\n",
    "        return indices[0, 0]\n",
    "\n",
    "    maximum = np.maximum(L_s[indices], R_s[indices])\n",
    "    ind2 = np.argwhere(maximum == np.nanmax(maximum)).flatten()\n",
    "    if ind2.shape != (1, 1):\n",
    "        ind2 = ind2[0]\n",
    "\n",
    "    return indices[ind2]"
   ]
  },
  {
   "cell_type": "code",
   "execution_count": null,
   "metadata": {
    "collapsed": false
   },
   "outputs": [],
   "source": [
    "    L_s = np.empty(len(stalls))\n",
    "    R_s = np.empty(len(stalls))\n",
    "    L_s[:] = np.nan\n",
    "    R_s[:] = np.nan\n",
    "    for s in range(1, len(stalls) - 1):\n",
    "        print(s, stalls[:s], stalls[s+1:])\n",
    "        L_s[s] = s - 1 - stalls[:s].rfind('o')\n",
    "        R_s[s] = stalls[s+1:].find('o')\n",
    "\n",
    "    print(L_s, R_s)\n",
    "    X = np.array([L_s, R_s])"
   ]
  },
  {
   "cell_type": "code",
   "execution_count": null,
   "metadata": {
    "collapsed": false
   },
   "outputs": [],
   "source": [
    "find_best_stall(L_s, R_s)"
   ]
  },
  {
   "cell_type": "code",
   "execution_count": null,
   "metadata": {
    "collapsed": false
   },
   "outputs": [],
   "source": [
    "minimum = np.minimum(L_s, R_s)\n",
    "minimum"
   ]
  },
  {
   "cell_type": "code",
   "execution_count": null,
   "metadata": {
    "collapsed": false
   },
   "outputs": [],
   "source": [
    "indices = np.argwhere(minimum == np.nanmax(minimum)).flatten()\n",
    "indices"
   ]
  },
  {
   "cell_type": "code",
   "execution_count": null,
   "metadata": {
    "collapsed": false
   },
   "outputs": [],
   "source": [
    "maximum = np.maximum(L_s[indices], R_s[indices])\n",
    "maximum"
   ]
  },
  {
   "cell_type": "code",
   "execution_count": null,
   "metadata": {
    "collapsed": true
   },
   "outputs": [],
   "source": [
    "ind2 = np.argwhere(maximum == np.nanmax(maximum)).flatten()"
   ]
  },
  {
   "cell_type": "code",
   "execution_count": null,
   "metadata": {
    "collapsed": false
   },
   "outputs": [],
   "source": [
    "ind2"
   ]
  },
  {
   "cell_type": "code",
   "execution_count": null,
   "metadata": {
    "collapsed": false
   },
   "outputs": [],
   "source": [
    "R_s[indices]"
   ]
  },
  {
   "cell_type": "code",
   "execution_count": null,
   "metadata": {
    "collapsed": false
   },
   "outputs": [],
   "source": [
    "np.nanargmax(minimum, axis=0)"
   ]
  },
  {
   "cell_type": "code",
   "execution_count": null,
   "metadata": {
    "collapsed": false
   },
   "outputs": [],
   "source": [
    "index = np.argwhere(minimum == np.nanmax(minimum))"
   ]
  },
  {
   "cell_type": "code",
   "execution_count": null,
   "metadata": {
    "collapsed": false
   },
   "outputs": [],
   "source": [
    "index[0,0]"
   ]
  },
  {
   "cell_type": "code",
   "execution_count": null,
   "metadata": {
    "collapsed": false
   },
   "outputs": [],
   "source": [
    "int(minimum[index])"
   ]
  },
  {
   "cell_type": "code",
   "execution_count": null,
   "metadata": {
    "collapsed": false
   },
   "outputs": [],
   "source": [
    "index.flatten()"
   ]
  },
  {
   "cell_type": "code",
   "execution_count": null,
   "metadata": {
    "collapsed": true
   },
   "outputs": [],
   "source": []
  }
 ],
 "metadata": {
  "kernelspec": {
   "display_name": "Python 3",
   "language": "python",
   "name": "python3"
  },
  "language_info": {
   "codemirror_mode": {
    "name": "ipython",
    "version": 3
   },
   "file_extension": ".py",
   "mimetype": "text/x-python",
   "name": "python",
   "nbconvert_exporter": "python",
   "pygments_lexer": "ipython3",
   "version": "3.6.0"
  }
 },
 "nbformat": 4,
 "nbformat_minor": 2
}
