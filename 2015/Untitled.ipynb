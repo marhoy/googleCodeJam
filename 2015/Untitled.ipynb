{
 "cells": [
  {
   "cell_type": "code",
   "execution_count": null,
   "metadata": {
    "ExecuteTime": {
     "end_time": "2019-03-28T17:27:51.135915Z",
     "start_time": "2019-03-28T17:27:51.132135Z"
    }
   },
   "outputs": [],
   "source": [
    "import math"
   ]
  },
  {
   "cell_type": "code",
   "execution_count": null,
   "metadata": {
    "ExecuteTime": {
     "end_time": "2019-03-28T17:26:28.288237Z",
     "start_time": "2019-03-28T17:26:28.285590Z"
    }
   },
   "outputs": [],
   "source": [
    "plates = [4]"
   ]
  },
  {
   "cell_type": "code",
   "execution_count": null,
   "metadata": {
    "ExecuteTime": {
     "end_time": "2019-03-28T17:29:32.326251Z",
     "start_time": "2019-03-28T17:29:32.322541Z"
    }
   },
   "outputs": [],
   "source": [
    "best_solution = max(plates)\n",
    "for x in range(1, max(plates) + 1):\n",
    "    special_minutes = 0\n",
    "    for p in plates:\n",
    "        special_minutes += math.ceil(p/x) - 1\n",
    "    best_solution = min(best_solution, x + special_minutes)"
   ]
  },
  {
   "cell_type": "code",
   "execution_count": null,
   "metadata": {
    "ExecuteTime": {
     "end_time": "2019-03-28T17:29:36.418256Z",
     "start_time": "2019-03-28T17:29:36.413655Z"
    }
   },
   "outputs": [],
   "source": [
    "best_solution"
   ]
  },
  {
   "cell_type": "code",
   "execution_count": null,
   "metadata": {
    "ExecuteTime": {
     "end_time": "2019-03-28T18:27:31.497029Z",
     "start_time": "2019-03-28T18:27:31.492208Z"
    }
   },
   "outputs": [],
   "source": [
    "def str_to_int(s):\n",
    "    to_int = {'1': 1, 'i': 2, 'j':4, 'k': 8}\n",
    "    if s.startswith('-'):\n",
    "        return -to_int[s[1]]\n",
    "    else:\n",
    "        return to_int[s]\n",
    "\n",
    "def int_to_str(i):\n",
    "    to_str = {1: '1', 2: 'i', 4: 'j', 8: 'k'}\n",
    "    if i < 0:\n",
    "        return '-' + to_str[abs(i)]\n",
    "    else:\n",
    "        return to_str[i]"
   ]
  },
  {
   "cell_type": "code",
   "execution_count": null,
   "metadata": {
    "ExecuteTime": {
     "end_time": "2019-03-28T18:28:43.714840Z",
     "start_time": "2019-03-28T18:28:43.709357Z"
    }
   },
   "outputs": [],
   "source": [
    "def times(a, b):\n",
    "    mult = {\n",
    "        1: {1:  1, 2:  2, 4:  4, 8:  8},\n",
    "        2: {1:  2, 2: -1, 4:  8, 8: -4},\n",
    "        4: {1:  4, 2: -8, 4: -1, 8:  2},\n",
    "        8: {1:  8, 2:  4, 4: -2, 8: -1},\n",
    "    }\n",
    "    \n",
    "    a = to_int(a)\n",
    "    b = to_int(b)\n",
    "    result = int(math.copysign(1, a)*math.copysign(1, b))*mult[abs(a)][abs(b)]\n",
    "    return int_to_str(result)"
   ]
  },
  {
   "cell_type": "code",
   "execution_count": null,
   "metadata": {
    "ExecuteTime": {
     "end_time": "2019-03-28T19:35:23.421706Z",
     "start_time": "2019-03-28T19:35:23.417906Z"
    }
   },
   "outputs": [],
   "source": [
    "def check_total_product(string):\n",
    "    string = list(string)\n",
    "    c = string.pop(0)\n",
    "    for c2 in string:\n",
    "        c = times(c, c2)\n",
    "    if c == '-1':\n",
    "        return True\n",
    "    else:\n",
    "        return False"
   ]
  },
  {
   "cell_type": "code",
   "execution_count": null,
   "metadata": {
    "ExecuteTime": {
     "end_time": "2019-03-28T19:35:23.669767Z",
     "start_time": "2019-03-28T19:35:23.664944Z"
    }
   },
   "outputs": [],
   "source": [
    "def check_parts(string):\n",
    "    string = list(string)\n",
    "    possible = False\n",
    "    try:\n",
    "        c = string.pop(0)\n",
    "        while not c == 'i':\n",
    "            c = times(c, string.pop(0))\n",
    "        c = string.pop(0)\n",
    "        while not c == 'j':\n",
    "            c = times(c, string.pop(0))\n",
    "        c = string.pop(0)\n",
    "        while not c == 'k':\n",
    "            c = times(c, string.pop(0))\n",
    "    except IndexError:\n",
    "        pass\n",
    "    else:\n",
    "        if len(string) == 0:\n",
    "            possible = True\n",
    "    \n",
    "    return possible"
   ]
  },
  {
   "cell_type": "code",
   "execution_count": null,
   "metadata": {
    "ExecuteTime": {
     "end_time": "2019-03-28T19:35:58.614325Z",
     "start_time": "2019-03-28T19:35:58.610851Z"
    }
   },
   "outputs": [],
   "source": [
    "string = 'ijkijk'"
   ]
  },
  {
   "cell_type": "code",
   "execution_count": null,
   "metadata": {
    "ExecuteTime": {
     "end_time": "2019-03-28T19:35:59.179075Z",
     "start_time": "2019-03-28T19:35:59.174449Z"
    }
   },
   "outputs": [],
   "source": [
    "check_total_product(string)"
   ]
  },
  {
   "cell_type": "code",
   "execution_count": null,
   "metadata": {
    "ExecuteTime": {
     "end_time": "2019-03-28T19:36:00.018296Z",
     "start_time": "2019-03-28T19:36:00.013250Z"
    }
   },
   "outputs": [],
   "source": [
    "check_parts(string)"
   ]
  },
  {
   "cell_type": "code",
   "execution_count": null,
   "metadata": {
    "ExecuteTime": {
     "end_time": "2019-03-28T20:51:31.662049Z",
     "start_time": "2019-03-28T20:51:31.650229Z"
    }
   },
   "outputs": [],
   "source": [
    "l = [10, 5, 15, 5]"
   ]
  },
  {
   "cell_type": "code",
   "execution_count": null,
   "metadata": {
    "ExecuteTime": {
     "end_time": "2019-03-28T20:56:41.083199Z",
     "start_time": "2019-03-28T20:56:41.079310Z"
    }
   },
   "outputs": [],
   "source": [
    "eaten = 0\n",
    "max_rate = 0\n",
    "for i1, i2 in zip(l, l[1:]):\n",
    "    eaten += max(i1 - i2, 0)\n",
    "    max_rate = max(max_rate, i1 - i2)"
   ]
  },
  {
   "cell_type": "code",
   "execution_count": null,
   "metadata": {
    "ExecuteTime": {
     "end_time": "2019-03-28T21:10:36.343985Z",
     "start_time": "2019-03-28T21:10:36.340431Z"
    }
   },
   "outputs": [],
   "source": [
    "eaten2 = 0\n",
    "for i1, i2 in zip(l, l[1:]):\n",
    "    if i1 - i2 < 0:\n",
    "        eaten2 += max_rate\n",
    "    else:\n",
    "        eaten2 += min(i1-i2, max_rate)"
   ]
  },
  {
   "cell_type": "code",
   "execution_count": null,
   "metadata": {
    "ExecuteTime": {
     "end_time": "2019-03-28T21:10:37.398296Z",
     "start_time": "2019-03-28T21:10:37.394633Z"
    }
   },
   "outputs": [],
   "source": [
    "eaten2"
   ]
  },
  {
   "cell_type": "code",
   "execution_count": null,
   "metadata": {
    "ExecuteTime": {
     "end_time": "2019-03-30T21:15:53.606575Z",
     "start_time": "2019-03-30T21:15:53.603636Z"
    }
   },
   "outputs": [],
   "source": [
    "M = [10, 5]"
   ]
  },
  {
   "cell_type": "code",
   "execution_count": null,
   "metadata": {
    "ExecuteTime": {
     "end_time": "2019-03-30T21:15:53.923806Z",
     "start_time": "2019-03-30T21:15:53.920185Z"
    }
   },
   "outputs": [],
   "source": [
    "def people_seated(time):\n",
    "    import math\n",
    "    return sum([math.floor(time/barber) + 1 for barber in M])"
   ]
  },
  {
   "cell_type": "code",
   "execution_count": null,
   "metadata": {
    "ExecuteTime": {
     "end_time": "2019-03-30T21:17:44.759974Z",
     "start_time": "2019-03-30T21:17:44.754680Z"
    }
   },
   "outputs": [],
   "source": [
    "my_position = 5"
   ]
  },
  {
   "cell_type": "code",
   "execution_count": null,
   "metadata": {
    "ExecuteTime": {
     "end_time": "2019-03-30T21:17:47.746663Z",
     "start_time": "2019-03-30T21:17:47.739703Z"
    }
   },
   "outputs": [],
   "source": [
    "import math\n",
    "\n",
    "low, high = -1, max(M)*my_position\n",
    "while high - low > 1:\n",
    "    mid = math.floor((low + high)/2)\n",
    "    print(low, mid, high)\n",
    "    if people_seated(mid) < my_position:\n",
    "        low = mid\n",
    "    else:\n",
    "        high = mid\n",
    "time = high\n"
   ]
  },
  {
   "cell_type": "code",
   "execution_count": null,
   "metadata": {
    "ExecuteTime": {
     "end_time": "2019-03-30T21:15:34.913343Z",
     "start_time": "2019-03-30T21:15:34.908481Z"
    }
   },
   "outputs": [],
   "source": [
    "people_seated(15)"
   ]
  },
  {
   "cell_type": "code",
   "execution_count": null,
   "metadata": {},
   "outputs": [],
   "source": []
  },
  {
   "cell_type": "code",
   "execution_count": null,
   "metadata": {
    "ExecuteTime": {
     "end_time": "2019-03-30T20:16:29.121497Z",
     "start_time": "2019-03-30T20:16:29.116828Z"
    }
   },
   "outputs": [],
   "source": [
    "people_to_be_seated_at_t = people_seated(time) - people_seated(time - 1)\n",
    "my_position_at_t = my_position - people_seated(time - 1)"
   ]
  },
  {
   "cell_type": "code",
   "execution_count": null,
   "metadata": {
    "ExecuteTime": {
     "end_time": "2019-03-30T20:16:29.503296Z",
     "start_time": "2019-03-30T20:16:29.496786Z"
    }
   },
   "outputs": [],
   "source": [
    "people_seated(4)"
   ]
  },
  {
   "cell_type": "code",
   "execution_count": null,
   "metadata": {
    "ExecuteTime": {
     "end_time": "2019-03-30T20:16:30.014185Z",
     "start_time": "2019-03-30T20:16:30.009877Z"
    }
   },
   "outputs": [],
   "source": [
    "for barber_id, barber_time in enumerate(M):\n",
    "    if time % barber_time == 0:\n",
    "        my_position_at_t -= 1\n",
    "    if my_position_at_t == 0:\n",
    "        break"
   ]
  },
  {
   "cell_type": "code",
   "execution_count": null,
   "metadata": {
    "ExecuteTime": {
     "end_time": "2019-03-30T20:16:30.542837Z",
     "start_time": "2019-03-30T20:16:30.537581Z"
    }
   },
   "outputs": [],
   "source": [
    "barber_id"
   ]
  },
  {
   "cell_type": "code",
   "execution_count": 41,
   "metadata": {
    "ExecuteTime": {
     "end_time": "2019-03-31T16:45:58.174650Z",
     "start_time": "2019-03-31T16:45:58.171061Z"
    }
   },
   "outputs": [],
   "source": [
    "def ccw(a, b, c):\n",
    "    \"\"\"\n",
    "    Each point a, b, c is a point in 2D represented by two coordinates (x, y).\n",
    "    This function determines whether the turn from a->b to b->c is counter-clockwise.\n",
    "\n",
    "    The function returns:\n",
    "     positive: If the turn is counter-clockwise\n",
    "     zero: If the three points are on a line\n",
    "     negative: If the turn is clockwise\n",
    "\n",
    "    If ccw > 0, point c is to the left of the line from a->b\n",
    "    \"\"\"\n",
    "    return (b[0] - a[0]) * (c[1] - a[1]) - (c[0] - a[0]) * (b[1] - a[1])"
   ]
  },
  {
   "cell_type": "code",
   "execution_count": 61,
   "metadata": {
    "ExecuteTime": {
     "end_time": "2019-03-31T17:44:54.321044Z",
     "start_time": "2019-03-31T17:44:54.312544Z"
    }
   },
   "outputs": [
    {
     "ename": "NameError",
     "evalue": "name 'reduce' is not defined",
     "output_type": "error",
     "traceback": [
      "\u001b[0;31m---------------------------------------------------------------------------\u001b[0m",
      "\u001b[0;31mNameError\u001b[0m                                 Traceback (most recent call last)",
      "\u001b[0;32m<ipython-input-61-62f6239f03f9>\u001b[0m in \u001b[0;36m<module>\u001b[0;34m()\u001b[0m\n\u001b[0;32m----> 1\u001b[0;31m \u001b[0mreduce\u001b[0m\u001b[0;34m\u001b[0m\u001b[0m\n\u001b[0m",
      "\u001b[0;31mNameError\u001b[0m: name 'reduce' is not defined"
     ]
    }
   ],
   "source": [
    "reduce"
   ]
  },
  {
   "cell_type": "code",
   "execution_count": 69,
   "metadata": {
    "ExecuteTime": {
     "end_time": "2019-03-31T17:50:14.249504Z",
     "start_time": "2019-03-31T17:50:14.244774Z"
    }
   },
   "outputs": [],
   "source": [
    "def convex_hull(points):\n",
    "    from functools import reduce\n",
    "    \n",
    "    def _keep_left(hull, r):\n",
    "        while len(hull) > 1 and ccw(hull[-2], hull[-1], r) >= 0:\n",
    "            hull.pop()\n",
    "        if not len(hull) or hull[-1] != r:\n",
    "            hull.append(r)\n",
    "        return hull\n",
    "\n",
    "    points = sorted(points)\n",
    "    l = reduce(_keep_left, points, [])\n",
    "    u = reduce(_keep_left, reversed(points), [])\n",
    "    \n",
    "    return l.extend(u[i] for i in range(1, len(u) - 1)) or l    "
   ]
  },
  {
   "cell_type": "markdown",
   "metadata": {},
   "source": [
    "For each point P\n",
    "  Let M = N-1\n",
    "  For each point Q ≠ P\n",
    "    Let Temp = 0\n",
    "    For each point R ≠ P, Q\n",
    "      If R is to the left of the line PQ\n",
    "        Temp = Temp + 1\n",
    "    If Temp < M\n",
    "      M = Temp\n",
    "  Output M"
   ]
  },
  {
   "cell_type": "code",
   "execution_count": 66,
   "metadata": {
    "ExecuteTime": {
     "end_time": "2019-03-31T17:49:39.448483Z",
     "start_time": "2019-03-31T17:49:39.442754Z"
    }
   },
   "outputs": [
    {
     "data": {
      "text/plain": [
       "0"
      ]
     },
     "execution_count": 66,
     "metadata": {},
     "output_type": "execute_result"
    }
   ],
   "source": [
    "ccw((0,0), (10,0), (20,0))"
   ]
  },
  {
   "cell_type": "code",
   "execution_count": 67,
   "metadata": {
    "ExecuteTime": {
     "end_time": "2019-03-31T17:49:40.207733Z",
     "start_time": "2019-03-31T17:49:40.203145Z"
    }
   },
   "outputs": [],
   "source": [
    "points = [\n",
    "    (0, 0),\n",
    "    (10, 0),\n",
    "    (10, 10),\n",
    "    (0, 10),\n",
    "    (5,5)\n",
    "]"
   ]
  },
  {
   "cell_type": "code",
   "execution_count": 68,
   "metadata": {
    "ExecuteTime": {
     "end_time": "2019-03-31T17:49:40.872670Z",
     "start_time": "2019-03-31T17:49:40.867588Z"
    }
   },
   "outputs": [
    {
     "data": {
      "text/plain": [
       "[(0, 0), (0, 10), (10, 10), (10, 0)]"
      ]
     },
     "execution_count": 68,
     "metadata": {},
     "output_type": "execute_result"
    }
   ],
   "source": [
    "convex_hull(points)"
   ]
  },
  {
   "cell_type": "code",
   "execution_count": 51,
   "metadata": {
    "ExecuteTime": {
     "end_time": "2019-03-31T16:50:20.658767Z",
     "start_time": "2019-03-31T16:50:20.651138Z"
    }
   },
   "outputs": [
    {
     "data": {
      "text/plain": [
       "[0, 0, 0, 0, 1]"
      ]
     },
     "execution_count": 51,
     "metadata": {},
     "output_type": "execute_result"
    }
   ],
   "source": [
    "output = []\n",
    "for P in points:\n",
    "    M = len(points) - 1\n",
    "    for Q in points:\n",
    "        if Q == P:\n",
    "            continue\n",
    "        temp = 0\n",
    "        for R in points:\n",
    "            if R in [P, Q]:\n",
    "                continue\n",
    "            if ccw(P, Q, R) > 0:\n",
    "                temp += 1\n",
    "        if temp < M:\n",
    "            M = temp\n",
    "    output.append(M)\n",
    "output"
   ]
  },
  {
   "cell_type": "code",
   "execution_count": 50,
   "metadata": {
    "ExecuteTime": {
     "end_time": "2019-03-31T16:50:07.171475Z",
     "start_time": "2019-03-31T16:50:07.167119Z"
    }
   },
   "outputs": [
    {
     "data": {
      "text/plain": [
       "[0, 0, 0, 0, 1]"
      ]
     },
     "execution_count": 50,
     "metadata": {},
     "output_type": "execute_result"
    }
   ],
   "source": [
    "output"
   ]
  },
  {
   "cell_type": "code",
   "execution_count": 74,
   "metadata": {
    "ExecuteTime": {
     "end_time": "2019-03-31T20:18:33.317002Z",
     "start_time": "2019-03-31T20:18:33.313454Z"
    }
   },
   "outputs": [],
   "source": [
    "def digits(n):\n",
    "    return {int(d) for d in str(n)}"
   ]
  },
  {
   "cell_type": "code",
   "execution_count": 81,
   "metadata": {
    "ExecuteTime": {
     "end_time": "2019-03-31T20:22:13.732634Z",
     "start_time": "2019-03-31T20:22:13.727045Z"
    }
   },
   "outputs": [
    {
     "data": {
      "text/plain": [
       "['__and__',\n",
       " '__class__',\n",
       " '__contains__',\n",
       " '__delattr__',\n",
       " '__dir__',\n",
       " '__doc__',\n",
       " '__eq__',\n",
       " '__format__',\n",
       " '__ge__',\n",
       " '__getattribute__',\n",
       " '__gt__',\n",
       " '__hash__',\n",
       " '__iand__',\n",
       " '__init__',\n",
       " '__init_subclass__',\n",
       " '__ior__',\n",
       " '__isub__',\n",
       " '__iter__',\n",
       " '__ixor__',\n",
       " '__le__',\n",
       " '__len__',\n",
       " '__lt__',\n",
       " '__ne__',\n",
       " '__new__',\n",
       " '__or__',\n",
       " '__rand__',\n",
       " '__reduce__',\n",
       " '__reduce_ex__',\n",
       " '__repr__',\n",
       " '__ror__',\n",
       " '__rsub__',\n",
       " '__rxor__',\n",
       " '__setattr__',\n",
       " '__sizeof__',\n",
       " '__str__',\n",
       " '__sub__',\n",
       " '__subclasshook__',\n",
       " '__xor__',\n",
       " 'add',\n",
       " 'clear',\n",
       " 'copy',\n",
       " 'difference',\n",
       " 'difference_update',\n",
       " 'discard',\n",
       " 'intersection',\n",
       " 'intersection_update',\n",
       " 'isdisjoint',\n",
       " 'issubset',\n",
       " 'issuperset',\n",
       " 'pop',\n",
       " 'remove',\n",
       " 'symmetric_difference',\n",
       " 'symmetric_difference_update',\n",
       " 'union',\n",
       " 'update']"
      ]
     },
     "execution_count": 81,
     "metadata": {},
     "output_type": "execute_result"
    }
   ],
   "source": [
    "dir(set())"
   ]
  },
  {
   "cell_type": "code",
   "execution_count": 121,
   "metadata": {
    "ExecuteTime": {
     "end_time": "2019-03-31T20:32:07.420643Z",
     "start_time": "2019-03-31T20:32:07.417054Z"
    }
   },
   "outputs": [],
   "source": [
    "import random"
   ]
  },
  {
   "cell_type": "code",
   "execution_count": 137,
   "metadata": {
    "ExecuteTime": {
     "end_time": "2019-03-31T20:32:46.450255Z",
     "start_time": "2019-03-31T20:32:46.442227Z"
    }
   },
   "outputs": [
    {
     "name": "stdout",
     "output_type": "stream",
     "text": [
      "1 872565\n",
      "2 1745130\n",
      "3 2617695\n"
     ]
    }
   ],
   "source": [
    "N = random.randint(1, 1_000_000)\n",
    "print(1, N)\n",
    "\n",
    "numbers = digits(N)\n",
    "i = 2\n",
    "while len(numbers) < 10:\n",
    "    # numbers.union(digits(i*N))\n",
    "    new_digits = digits(i*N)\n",
    "    if new_digits.difference(numbers):\n",
    "        print(i, i*N)\n",
    "        numbers.update(new_digits)\n",
    "    i += 1"
   ]
  },
  {
   "cell_type": "code",
   "execution_count": 80,
   "metadata": {
    "ExecuteTime": {
     "end_time": "2019-03-31T20:20:27.273980Z",
     "start_time": "2019-03-31T20:20:27.268617Z"
    }
   },
   "outputs": [
    {
     "data": {
      "text/plain": [
       "{0, 1, 2, 3, 4, 5, 6, 7, 8, 9}"
      ]
     },
     "execution_count": 80,
     "metadata": {},
     "output_type": "execute_result"
    }
   ],
   "source": [
    "ts(n*11) = 2*n"
   ]
  },
  {
   "cell_type": "code",
   "execution_count": null,
   "metadata": {},
   "outputs": [],
   "source": []
  }
 ],
 "metadata": {
  "kernelspec": {
   "display_name": "Python 3",
   "language": "python",
   "name": "python3"
  },
  "language_info": {
   "codemirror_mode": {
    "name": "ipython",
    "version": 3
   },
   "file_extension": ".py",
   "mimetype": "text/x-python",
   "name": "python",
   "nbconvert_exporter": "python",
   "pygments_lexer": "ipython3",
   "version": "3.6.5"
  },
  "toc": {
   "base_numbering": 1,
   "nav_menu": {},
   "number_sections": true,
   "sideBar": true,
   "skip_h1_title": false,
   "title_cell": "Table of Contents",
   "title_sidebar": "Contents",
   "toc_cell": false,
   "toc_position": {},
   "toc_section_display": true,
   "toc_window_display": false
  }
 },
 "nbformat": 4,
 "nbformat_minor": 2
}
