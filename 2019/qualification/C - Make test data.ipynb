{
 "cells": [
  {
   "cell_type": "code",
   "execution_count": 1,
   "metadata": {},
   "outputs": [],
   "source": [
    "import string\n",
    "import random"
   ]
  },
  {
   "cell_type": "code",
   "execution_count": 2,
   "metadata": {},
   "outputs": [],
   "source": [
    "def pairwise(iterable):\n",
    "    \"\"\"s -> (s0,s1), (s1,s2), (s2, s3), ...\"\"\"\n",
    "    from itertools import tee\n",
    "    a, b = tee(iterable)\n",
    "    next(b, None)\n",
    "    return zip(a, b)"
   ]
  },
  {
   "cell_type": "code",
   "execution_count": 3,
   "metadata": {},
   "outputs": [],
   "source": [
    "def primes_up_to(n):\n",
    "    \"\"\"\n",
    "    Returns all prime numbers that are <= n\n",
    "    \"\"\"\n",
    "    out = list()\n",
    "    sieve = [True] * (n+1)\n",
    "    for p in range(2, n+1):\n",
    "        if (sieve[p]):\n",
    "            out.append(p)\n",
    "            for i in range(p, n+1, p):\n",
    "                sieve[i] = False\n",
    "    return out"
   ]
  },
  {
   "cell_type": "code",
   "execution_count": 5,
   "metadata": {},
   "outputs": [
    {
     "data": {
      "text/plain": [
       "'ABABAAAABABVMCTQYLURGZNPKOIHAFXJEDSWB'"
      ]
     },
     "execution_count": 5,
     "metadata": {},
     "output_type": "execute_result"
    }
   ],
   "source": [
    "N = 103\n",
    "message = 'ABABAAAABAB' + ''.join(random.sample(string.ascii_uppercase, 26))\n",
    "message"
   ]
  },
  {
   "cell_type": "code",
   "execution_count": 6,
   "metadata": {},
   "outputs": [
    {
     "name": "stdout",
     "output_type": "stream",
     "text": [
      "{'I': 23, 'Z': 103, 'K': 31, 'M': 43, 'E': 11, 'T': 73, 'S': 71, 'Y': 101, 'H': 19, 'F': 13, 'R': 67, 'J': 29, 'B': 3, 'Q': 61, 'N': 47, 'W': 89, 'P': 59, 'X': 97, 'O': 53, 'V': 83, 'A': 2, 'G': 17, 'D': 7, 'C': 5, 'U': 79, 'L': 37}\n"
     ]
    }
   ],
   "source": [
    "primes = primes_up_to(N)\n",
    "c_to_prime = {c: p for c, p in zip(string.ascii_uppercase, sorted(random.sample(primes, 26)))}\n",
    "print(c_to_prime)"
   ]
  },
  {
   "cell_type": "code",
   "execution_count": 7,
   "metadata": {},
   "outputs": [],
   "source": [
    "numbers = [c_to_prime[a]*c_to_prime[b] for a, b in pairwise(message)]"
   ]
  },
  {
   "cell_type": "code",
   "execution_count": 8,
   "metadata": {},
   "outputs": [
    {
     "name": "stdout",
     "output_type": "stream",
     "text": [
      "[6, 6, 6, 6, 4, 4, 4, 6, 6, 6, 249, 3569, 215, 365, 4453, 6161, 3737, 2923, 5293, 1139, 1751, 4841, 2773, 1829, 1643, 1219, 437, 38, 26, 1261, 2813, 319, 77, 497, 6319, 267]\n"
     ]
    }
   ],
   "source": [
    "print(numbers)"
   ]
  },
  {
   "cell_type": "code",
   "execution_count": 9,
   "metadata": {},
   "outputs": [
    {
     "data": {
      "text/plain": [
       "'6 6 6 6 4 4 4 6 6 6 249 3569 215 365 4453 6161 3737 2923 5293 1139 1751 4841 2773 1829 1643 1219 437 38 26 1261 2813 319 77 497 6319 267'"
      ]
     },
     "execution_count": 9,
     "metadata": {},
     "output_type": "execute_result"
    }
   ],
   "source": [
    "' '.join(map(str, numbers))"
   ]
  },
  {
   "cell_type": "code",
   "execution_count": null,
   "metadata": {},
   "outputs": [],
   "source": []
  }
 ],
 "metadata": {
  "kernelspec": {
   "display_name": "Python 3",
   "language": "python",
   "name": "python3"
  },
  "language_info": {
   "codemirror_mode": {
    "name": "ipython",
    "version": 3
   },
   "file_extension": ".py",
   "mimetype": "text/x-python",
   "name": "python",
   "nbconvert_exporter": "python",
   "pygments_lexer": "ipython3",
   "version": "3.5.3"
  }
 },
 "nbformat": 4,
 "nbformat_minor": 2
}
