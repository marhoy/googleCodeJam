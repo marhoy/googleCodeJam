{
 "cells": [
  {
   "cell_type": "code",
   "execution_count": 14,
   "id": "4b7329d2",
   "metadata": {},
   "outputs": [],
   "source": [
    "string = \"AAB\""
   ]
  },
  {
   "cell_type": "code",
   "execution_count": 15,
   "id": "fc6a70b0",
   "metadata": {},
   "outputs": [
    {
     "data": {
      "text/plain": [
       "'AAAAB'"
      ]
     },
     "execution_count": 15,
     "metadata": {},
     "output_type": "execute_result"
    }
   ],
   "source": [
    "start, end, output = 0, 0, []\n",
    "\n",
    "while start < len(string) - 1:\n",
    "    while (string[end] == string[start]) & (end < len(string) - 1):\n",
    "        end += 1\n",
    "    output.append(string[start:end])\n",
    "    if string[start] < string[end]:\n",
    "        output.append(string[start:end])\n",
    "    start = end\n",
    "    \n",
    "output.append(string[end])\n",
    "    \n",
    "\"\".join(output)"
   ]
  },
  {
   "cell_type": "code",
   "execution_count": 144,
   "id": "7d76a670",
   "metadata": {},
   "outputs": [],
   "source": [
    "N = 3\n",
    "numbers = {2,3,5,8,10,12}\n",
    "target = sum(numbers) // 2"
   ]
  },
  {
   "cell_type": "code",
   "execution_count": 145,
   "id": "0916a487",
   "metadata": {},
   "outputs": [],
   "source": [
    "prev = [set()] + [None]*target\n",
    "num = numbers.pop()\n",
    "prev[num] = {num}"
   ]
  },
  {
   "cell_type": "code",
   "execution_count": 146,
   "id": "7459f324",
   "metadata": {},
   "outputs": [],
   "source": [
    "while numbers:\n",
    "    curr = [set()] + [None]*target\n",
    "    num = numbers.pop()\n",
    "    for s in range(target + 1):\n",
    "        if prev[s]:\n",
    "            curr[s] = prev[s]\n",
    "        elif (num <= s) and prev[s - num]:\n",
    "            if curr[s]:\n",
    "                print(f\"Oops, can compute {s} both with and without {num}\")\n",
    "            curr[s] = prev[s - num] | {num}\n",
    "    prev = curr"
   ]
  },
  {
   "cell_type": "code",
   "execution_count": 147,
   "id": "f9864883",
   "metadata": {},
   "outputs": [
    {
     "data": {
      "text/plain": [
       "{2, 3, 5, 10}"
      ]
     },
     "execution_count": 147,
     "metadata": {},
     "output_type": "execute_result"
    }
   ],
   "source": [
    "curr[-1]"
   ]
  },
  {
   "cell_type": "code",
   "execution_count": 148,
   "id": "e39f7e34",
   "metadata": {},
   "outputs": [
    {
     "data": {
      "text/plain": [
       "'10 2 3 5'"
      ]
     },
     "execution_count": 148,
     "metadata": {},
     "output_type": "execute_result"
    }
   ],
   "source": [
    "\" \".join(map(str, curr[-1]))"
   ]
  },
  {
   "cell_type": "code",
   "execution_count": 206,
   "id": "f81bf1c6",
   "metadata": {},
   "outputs": [],
   "source": [
    "A = set([2**i for i in range(30)] + list(range(129, 129 + 70)))"
   ]
  },
  {
   "cell_type": "code",
   "execution_count": 195,
   "id": "b8df6290",
   "metadata": {},
   "outputs": [],
   "source": [
    "B = {184181251, 620155910, 769512463, 582849039, 741164563, 984194068, 993175067, 22148636, 634291232, 459229730, 45756454, 615928367, 679181885, 707160644, 147238981, 123317320, 329434711, 633398362, 260544608, 935688310, 151259259, 595731588, 835453065, 504073357, 786125459, 809415334, 664752806, 545581749, 691412163, 268731076, 569956552, 55925966, 445902035, 542189269, 26211037, 700699364, 772683506, 340580083, 712034036, 806799098, 876697853, 387749630, 683589888, 520625408, 23680265, 702130444, 714187024, 675646736, 759937808, 648624915, 43479315, 271754009, 245180709, 377152807, 486178088, 847381800, 89370410, 398126897, 112582450, 235862842, 689102654, 920485697, 813237058, 851303747, 11977547, 189213014, 299239267, 252781927, 600157552, 17363836, 77119366, 136971659, 375283616, 918015398, 707694503, 363930024, 811733929, 573427626, 217606055, 909335981, 274333614, 546826160, 207714228, 306622389, 208439223, 738207170, 935078851, 194887621, 685180874, 397173711, 466714080, 831389154, 244181478, 500686310, 916070890, 134838251, 519960556, 739673078, 669038071, 255050742}"
   ]
  },
  {
   "cell_type": "code",
   "execution_count": 207,
   "id": "5d9ea831",
   "metadata": {},
   "outputs": [],
   "source": [
    "B = set(range(10**9, 10**9 - 100, -1))"
   ]
  },
  {
   "cell_type": "code",
   "execution_count": 208,
   "id": "0a9c0470",
   "metadata": {},
   "outputs": [],
   "source": [
    "set1, set2 = set(), set()\n",
    "sum1, sum2 = 0, 0\n",
    "\n",
    "numbers = sorted(A | B)"
   ]
  },
  {
   "cell_type": "code",
   "execution_count": 220,
   "id": "81d6153d",
   "metadata": {},
   "outputs": [
    {
     "name": "stdout",
     "output_type": "stream",
     "text": [
      "Current difference: -1000000000\n",
      "Current difference: -1\n",
      "Current difference: 999999997\n",
      "Current difference: 0\n",
      "Current difference: -999999996\n",
      "Current difference: -1\n",
      "Current difference: 999999993\n",
      "Current difference: 0\n",
      "Current difference: -999999992\n",
      "Current difference: -1\n",
      "Current difference: 999999989\n",
      "Current difference: 0\n",
      "Current difference: -999999988\n",
      "Current difference: -1\n",
      "Current difference: 999999985\n",
      "Current difference: 0\n",
      "Current difference: -999999984\n",
      "Current difference: -1\n",
      "Current difference: 999999981\n",
      "Current difference: 0\n",
      "Current difference: -999999980\n",
      "Current difference: -1\n",
      "Current difference: 999999977\n",
      "Current difference: 0\n",
      "Current difference: -999999976\n",
      "Current difference: -1\n",
      "Current difference: 999999973\n",
      "Current difference: 0\n",
      "Current difference: -999999972\n",
      "Current difference: -1\n",
      "Current difference: 999999969\n",
      "Current difference: 0\n",
      "Current difference: -999999968\n",
      "Current difference: -1\n",
      "Current difference: 999999965\n",
      "Current difference: 0\n",
      "Current difference: -999999964\n",
      "Current difference: -1\n",
      "Current difference: 999999961\n",
      "Current difference: 0\n",
      "Current difference: -999999960\n",
      "Current difference: -1\n",
      "Current difference: 999999957\n",
      "Current difference: 0\n",
      "Current difference: -999999956\n",
      "Current difference: -1\n",
      "Current difference: 999999953\n",
      "Current difference: 0\n",
      "Current difference: -999999952\n",
      "Current difference: -1\n",
      "Current difference: 49\n",
      "Current difference: 0\n",
      "Current difference: -48\n",
      "Current difference: -1\n",
      "Current difference: 45\n",
      "Current difference: 0\n",
      "Current difference: -44\n",
      "Current difference: -1\n",
      "Current difference: 41\n",
      "Current difference: 0\n",
      "Current difference: -40\n",
      "Current difference: -1\n",
      "Current difference: 37\n",
      "Current difference: 0\n",
      "Current difference: -36\n",
      "Current difference: -1\n",
      "Current difference: 33\n",
      "Current difference: 0\n",
      "Current difference: -32\n",
      "Current difference: -1\n",
      "Current difference: 29\n",
      "Current difference: 0\n",
      "Current difference: -28\n",
      "Current difference: -1\n",
      "Current difference: 25\n",
      "Current difference: 0\n",
      "Current difference: -24\n",
      "Current difference: -1\n",
      "Current difference: 21\n",
      "Current difference: 0\n",
      "Current difference: -20\n",
      "Current difference: -1\n",
      "Current difference: 17\n",
      "Current difference: 0\n",
      "Current difference: -16\n",
      "Current difference: -1\n",
      "Current difference: 13\n",
      "Current difference: 0\n",
      "Current difference: -12\n",
      "Current difference: -1\n",
      "Current difference: 9\n",
      "Current difference: 0\n",
      "Current difference: -8\n",
      "Current difference: -1\n",
      "Current difference: 5\n",
      "Current difference: 0\n",
      "Current difference: -4\n",
      "Current difference: -1\n",
      "Current difference: 1\n",
      "Current difference: 0\n"
     ]
    }
   ],
   "source": [
    "while numbers:\n",
    "    num = numbers.pop()\n",
    "    if sum1 < sum2:\n",
    "        set1.add(num)\n",
    "        sum1 += num\n",
    "    else:\n",
    "        set2.add(num)\n",
    "        sum2 += num"
   ]
  },
  {
   "cell_type": "code",
   "execution_count": 210,
   "id": "628f4db8",
   "metadata": {},
   "outputs": [
    {
     "data": {
      "text/plain": [
       "0"
      ]
     },
     "execution_count": 210,
     "metadata": {},
     "output_type": "execute_result"
    }
   ],
   "source": [
    "sum1 - sum2"
   ]
  },
  {
   "cell_type": "code",
   "execution_count": 219,
   "id": "532a9a53",
   "metadata": {},
   "outputs": [],
   "source": [
    "set1, set2 = set(), set()\n",
    "sum1, sum2 = 0, 0\n",
    "\n",
    "numbers = sorted(list(range(10**9, 10**9 - 50, -1)) + list(range(1, 51)))"
   ]
  },
  {
   "cell_type": "code",
   "execution_count": 217,
   "id": "7536accf",
   "metadata": {},
   "outputs": [
    {
     "name": "stdout",
     "output_type": "stream",
     "text": [
      "Current difference: 0\n",
      "Current difference: -1000000000\n",
      "Current difference: -1\n",
      "Current difference: 999999997\n",
      "Current difference: 0\n",
      "Current difference: -999999996\n",
      "Current difference: -1\n",
      "Current difference: 999999993\n",
      "Current difference: 0\n",
      "Current difference: -999999992\n",
      "Current difference: -1\n",
      "Current difference: 999999989\n",
      "Current difference: 0\n",
      "Current difference: -999999988\n",
      "Current difference: -1\n",
      "Current difference: 999999985\n",
      "Current difference: 0\n",
      "Current difference: -999999984\n",
      "Current difference: -1\n",
      "Current difference: 999999981\n",
      "Current difference: 0\n",
      "Current difference: -999999980\n",
      "Current difference: -1\n",
      "Current difference: 999999977\n",
      "Current difference: 0\n",
      "Current difference: -999999976\n",
      "Current difference: -1\n",
      "Current difference: 999999973\n",
      "Current difference: 0\n",
      "Current difference: -999999972\n",
      "Current difference: -1\n",
      "Current difference: 999999969\n",
      "Current difference: 0\n",
      "Current difference: -999999968\n",
      "Current difference: -1\n",
      "Current difference: 999999965\n",
      "Current difference: 0\n",
      "Current difference: -999999964\n",
      "Current difference: -1\n",
      "Current difference: 999999961\n",
      "Current difference: 0\n",
      "Current difference: -999999960\n",
      "Current difference: -1\n",
      "Current difference: 999999957\n",
      "Current difference: 0\n",
      "Current difference: -999999956\n",
      "Current difference: -1\n",
      "Current difference: 999999953\n",
      "Current difference: 0\n",
      "Current difference: -999999952\n",
      "Current difference: -1\n",
      "Current difference: 49\n",
      "Current difference: 0\n",
      "Current difference: -48\n",
      "Current difference: -1\n",
      "Current difference: 45\n",
      "Current difference: 0\n",
      "Current difference: -44\n",
      "Current difference: -1\n",
      "Current difference: 41\n",
      "Current difference: 0\n",
      "Current difference: -40\n",
      "Current difference: -1\n",
      "Current difference: 37\n",
      "Current difference: 0\n",
      "Current difference: -36\n",
      "Current difference: -1\n",
      "Current difference: 33\n",
      "Current difference: 0\n",
      "Current difference: -32\n",
      "Current difference: -1\n",
      "Current difference: 29\n",
      "Current difference: 0\n",
      "Current difference: -28\n",
      "Current difference: -1\n",
      "Current difference: 25\n",
      "Current difference: 0\n",
      "Current difference: -24\n",
      "Current difference: -1\n",
      "Current difference: 21\n",
      "Current difference: 0\n",
      "Current difference: -20\n",
      "Current difference: -1\n",
      "Current difference: 17\n",
      "Current difference: 0\n",
      "Current difference: -16\n",
      "Current difference: -1\n",
      "Current difference: 13\n",
      "Current difference: 0\n",
      "Current difference: -12\n",
      "Current difference: -1\n",
      "Current difference: 9\n",
      "Current difference: 0\n",
      "Current difference: -8\n",
      "Current difference: -1\n",
      "Current difference: 5\n",
      "Current difference: 0\n",
      "Current difference: -4\n",
      "Current difference: -1\n",
      "Current difference: 1\n"
     ]
    }
   ],
   "source": [
    "while numbers:\n",
    "    print(f\"Current difference: {sum1 - sum2}\")\n",
    "    num = numbers.pop()\n",
    "    if sum1 < sum2:\n",
    "        set1.add(num)\n",
    "        sum1 += num\n",
    "    else:\n",
    "        set2.add(num)\n",
    "        sum2 += num"
   ]
  },
  {
   "cell_type": "code",
   "execution_count": null,
   "id": "ac64b6a0",
   "metadata": {},
   "outputs": [],
   "source": []
  }
 ],
 "metadata": {
  "kernelspec": {
   "display_name": "google",
   "language": "python",
   "name": "google"
  },
  "language_info": {
   "codemirror_mode": {
    "name": "ipython",
    "version": 3
   },
   "file_extension": ".py",
   "mimetype": "text/x-python",
   "name": "python",
   "nbconvert_exporter": "python",
   "pygments_lexer": "ipython3",
   "version": "3.7.3"
  }
 },
 "nbformat": 4,
 "nbformat_minor": 5
}
