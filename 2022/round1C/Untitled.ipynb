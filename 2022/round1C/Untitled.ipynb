{
 "cells": [
  {
   "cell_type": "code",
   "execution_count": 390,
   "id": "df4a96dd",
   "metadata": {},
   "outputs": [],
   "source": [
    "import itertools\n",
    "import collections\n",
    "\n",
    "from typing import Set"
   ]
  },
  {
   "cell_type": "code",
   "execution_count": 447,
   "id": "b00cfca1",
   "metadata": {},
   "outputs": [],
   "source": [
    "towers = [\"CODE\", \"JAM\", \"MIC\", \"EEL\", \"ZZZZZ\"]\n",
    "towers = \"EEEEE EEIIII OOOOOIIIII\".split()"
   ]
  },
  {
   "cell_type": "code",
   "execution_count": 448,
   "id": "35ee1ccd",
   "metadata": {},
   "outputs": [],
   "source": [
    "#towers = [\"CODE\", \"JAM\", \"MIC\", \"EEL\", \"ZZZZZ\"]\n",
    "#towers = [\"A\", \"AA\", \"BB\", \"A\", \"BA\", \"BB\"]\n",
    "#towers = [\"CODE\", \"JAM\", \"MIC\", \"EEL\", \"ZZZZZ\", \"EEK\"]\n",
    "# towers = \"OY YO\".split()"
   ]
  },
  {
   "cell_type": "code",
   "execution_count": 449,
   "id": "7d04276e",
   "metadata": {},
   "outputs": [],
   "source": [
    "def is_valid_tower(tower: str) -> bool:\n",
    "    chars = set(tower)\n",
    "    grouped = [key for key, group in itertools.groupby(tower)]\n",
    "    return len(chars) == len(grouped)"
   ]
  },
  {
   "cell_type": "code",
   "execution_count": 450,
   "id": "3cf7ca1f",
   "metadata": {},
   "outputs": [],
   "source": [
    "def middle_letters(tower: str) -> Set[str]:\n",
    "    if len(set(tower)) <= 2:\n",
    "        return set()\n",
    "    else:\n",
    "        grouped = [key for key, group in itertools.groupby(tower)]\n",
    "        return set(grouped[1:-1])"
   ]
  },
  {
   "cell_type": "code",
   "execution_count": 451,
   "id": "4e9a990a",
   "metadata": {},
   "outputs": [
    {
     "data": {
      "text/plain": [
       "[set(), set(), set()]"
      ]
     },
     "execution_count": 451,
     "metadata": {},
     "output_type": "execute_result"
    }
   ],
   "source": [
    "[middle_letters(tower) for tower in towers]"
   ]
  },
  {
   "cell_type": "code",
   "execution_count": 452,
   "id": "654201ab",
   "metadata": {},
   "outputs": [],
   "source": [
    "middle_letter_counts = Counter(itertools.chain.from_iterable(middle_letters(tower) for tower in towers))"
   ]
  },
  {
   "cell_type": "code",
   "execution_count": 453,
   "id": "af5ce0c1",
   "metadata": {},
   "outputs": [
    {
     "data": {
      "text/plain": [
       "[]"
      ]
     },
     "execution_count": 453,
     "metadata": {},
     "output_type": "execute_result"
    }
   ],
   "source": [
    "most_common_middle = Counter(itertools.chain.from_iterable([middle_letters(tower) for tower in towers])).most_common(1)\n",
    "most_common_middle"
   ]
  },
  {
   "cell_type": "code",
   "execution_count": 455,
   "id": "5794d4de",
   "metadata": {},
   "outputs": [],
   "source": [
    "single = collections.defaultdict(list)\n",
    "starts, ends = collections.defaultdict(list), collections.defaultdict(list)\n",
    "for tower in towers:\n",
    "    grouped = [key for key, group in itertools.groupby(tower)]\n",
    "    if len(grouped) == 1:\n",
    "        single[grouped[0]].append(tower)\n",
    "    else:\n",
    "        starts[grouped[0]].append(tower)\n",
    "        ends[grouped[-1]].append(tower)"
   ]
  },
  {
   "cell_type": "code",
   "execution_count": 446,
   "id": "e5317ec4",
   "metadata": {},
   "outputs": [
    {
     "data": {
      "text/plain": [
       "['OY', 'YO']"
      ]
     },
     "execution_count": 446,
     "metadata": {},
     "output_type": "execute_result"
    }
   ],
   "source": [
    "towers"
   ]
  },
  {
   "cell_type": "code",
   "execution_count": 456,
   "id": "cb8349e9",
   "metadata": {},
   "outputs": [
    {
     "data": {
      "text/plain": [
       "defaultdict(list, {'E': ['EEEEE']})"
      ]
     },
     "execution_count": 456,
     "metadata": {},
     "output_type": "execute_result"
    }
   ],
   "source": [
    "single"
   ]
  },
  {
   "cell_type": "code",
   "execution_count": 457,
   "id": "d2af3944",
   "metadata": {},
   "outputs": [
    {
     "data": {
      "text/plain": [
       "defaultdict(list, {'E': ['EEIIII'], 'O': ['OOOOOIIIII']})"
      ]
     },
     "execution_count": 457,
     "metadata": {},
     "output_type": "execute_result"
    }
   ],
   "source": [
    "starts"
   ]
  },
  {
   "cell_type": "code",
   "execution_count": 458,
   "id": "e6d3633e",
   "metadata": {},
   "outputs": [
    {
     "data": {
      "text/plain": [
       "defaultdict(list, {'I': ['EEIIII', 'OOOOOIIIII']})"
      ]
     },
     "execution_count": 458,
     "metadata": {},
     "output_type": "execute_result"
    }
   ],
   "source": [
    "ends"
   ]
  },
  {
   "cell_type": "code",
   "execution_count": 325,
   "id": "a6d629a4",
   "metadata": {},
   "outputs": [],
   "source": [
    "from collections import Counter"
   ]
  },
  {
   "cell_type": "code",
   "execution_count": 305,
   "id": "75fddede",
   "metadata": {},
   "outputs": [
    {
     "data": {
      "text/plain": [
       "True"
      ]
     },
     "execution_count": 305,
     "metadata": {},
     "output_type": "execute_result"
    }
   ],
   "source": [
    "all(is_valid_tower(tower) for tower in towers)"
   ]
  },
  {
   "cell_type": "code",
   "execution_count": 82,
   "id": "8375b142",
   "metadata": {},
   "outputs": [
    {
     "data": {
      "text/plain": [
       "{'O'}"
      ]
     },
     "execution_count": 82,
     "metadata": {},
     "output_type": "execute_result"
    }
   ],
   "source": [
    "(set(towers[0]) & set(towers[1])) - set(\"Y\")"
   ]
  },
  {
   "cell_type": "code",
   "execution_count": 95,
   "id": "60b8737e",
   "metadata": {},
   "outputs": [
    {
     "name": "stdout",
     "output_type": "stream",
     "text": [
      "NONO\n"
     ]
    }
   ],
   "source": [
    "last, tower = dict(), \"HASH\"\n",
    "for i, char in enumerate(tower):\n",
    "    if not char in last:\n",
    "        last[char] = i\n",
    "    else:\n",
    "        if last[char] != i-1:\n",
    "            print(\"NONO\")\n",
    "    "
   ]
  },
  {
   "cell_type": "code",
   "execution_count": 96,
   "id": "5359ac5e",
   "metadata": {},
   "outputs": [
    {
     "data": {
      "text/plain": [
       "{'H': 0, 'A': 1, 'S': 2}"
      ]
     },
     "execution_count": 96,
     "metadata": {},
     "output_type": "execute_result"
    }
   ],
   "source": [
    "last"
   ]
  },
  {
   "cell_type": "code",
   "execution_count": 88,
   "id": "2152575e",
   "metadata": {},
   "outputs": [
    {
     "data": {
      "text/plain": [
       "'HASH'"
      ]
     },
     "execution_count": 88,
     "metadata": {},
     "output_type": "execute_result"
    }
   ],
   "source": [
    "\"HASH\""
   ]
  },
  {
   "cell_type": "code",
   "execution_count": 83,
   "id": "8f55b943",
   "metadata": {},
   "outputs": [
    {
     "name": "stdout",
     "output_type": "stream",
     "text": [
      "['OY', 'YO']\n"
     ]
    }
   ],
   "source": [
    "while True:\n",
    "    for tower1, tower2 in itertools.permutations(towers, 2):\n",
    "        if tower1[-1] == tower2[0]:\n",
    "            common = tower1[-1]\n",
    "            if (set(tower1) & set(tower2)) - set(common):\n",
    "                continue\n",
    "            towers.append(tower1 + tower2)\n",
    "            del towers[towers.index(tower1)]\n",
    "            del towers[towers.index(tower2)]\n",
    "            break\n",
    "    else:\n",
    "        break\n"
   ]
  },
  {
   "cell_type": "code",
   "execution_count": 84,
   "id": "6ca1d280",
   "metadata": {},
   "outputs": [],
   "source": [
    "while True:\n",
    "    for tower1, tower2 in itertools.permutations(towers, 2):\n",
    "        if not set(tower1) & set(tower2):\n",
    "            towers.append(tower1 + tower2)\n",
    "            del towers[towers.index(tower1)]\n",
    "            del towers[towers.index(tower2)]\n",
    "            break\n",
    "    else:\n",
    "        break"
   ]
  },
  {
   "cell_type": "code",
   "execution_count": 85,
   "id": "ce8a6a79",
   "metadata": {},
   "outputs": [
    {
     "data": {
      "text/plain": [
       "['OY', 'YO']"
      ]
     },
     "execution_count": 85,
     "metadata": {},
     "output_type": "execute_result"
    }
   ],
   "source": [
    "towers"
   ]
  },
  {
   "cell_type": "markdown",
   "id": "c8164652",
   "metadata": {},
   "source": [
    "# Squary"
   ]
  },
  {
   "cell_type": "code",
   "execution_count": 109,
   "id": "ec8b92fe",
   "metadata": {},
   "outputs": [],
   "source": [
    "l = [3, -2, 6]"
   ]
  },
  {
   "cell_type": "code",
   "execution_count": 178,
   "id": "275d7d77",
   "metadata": {},
   "outputs": [],
   "source": [
    "def squary_diff(values):\n",
    "    sum_squares = sum(value**2 for value in values)\n",
    "    squared_sum = sum(values)**2\n",
    "    return sum_squares - squared_sum"
   ]
  },
  {
   "cell_type": "code",
   "execution_count": 207,
   "id": "c502e99b",
   "metadata": {},
   "outputs": [],
   "source": [
    "guess = "
   ]
  },
  {
   "cell_type": "code",
   "execution_count": 208,
   "id": "e86982dd",
   "metadata": {},
   "outputs": [
    {
     "data": {
      "text/plain": [
       "1368"
      ]
     },
     "execution_count": 208,
     "metadata": {},
     "output_type": "execute_result"
    }
   ],
   "source": [
    "values = [-2, 6]\n",
    "squary_diff(values + [guess])"
   ]
  },
  {
   "cell_type": "code",
   "execution_count": null,
   "id": "c047b082",
   "metadata": {},
   "outputs": [],
   "source": []
  },
  {
   "cell_type": "code",
   "execution_count": 217,
   "id": "d924f3dc",
   "metadata": {},
   "outputs": [],
   "source": [
    "def search_positive(values, max_val):\n",
    "    for x in range(1, max_val):\n",
    "        print(\"Testing\", x)\n",
    "        if squary_diff(values + [x]) == 0:\n",
    "            return x\n",
    "        if squary_diff(values + [x]) < 0:\n",
    "            return \"IMPOSSIBLE\"\n",
    "        \n",
    "def search_negative(values, min_val):\n",
    "    for x in range(-1, min_val, -1):\n",
    "        print(\"Testing\", x)\n",
    "        if squary_diff(values + [x]) == 0:\n",
    "            return x\n",
    "        if squary_diff(values + [x]) > 0:\n",
    "            return \"IMPOSSIBLE\""
   ]
  },
  {
   "cell_type": "code",
   "execution_count": 218,
   "id": "bf5c039f",
   "metadata": {},
   "outputs": [],
   "source": [
    "values = [0]\n",
    "initial = squary_diff(values)\n",
    "if initial > 0:\n",
    "    solution = search_positive(values, initial)\n",
    "else:\n",
    "    solution = search_negative(values, initial)\n",
    "\n",
    "solution"
   ]
  },
  {
   "cell_type": "code",
   "execution_count": 294,
   "id": "95501455",
   "metadata": {},
   "outputs": [],
   "source": [
    "values = [-2, 6, -4]"
   ]
  },
  {
   "cell_type": "code",
   "execution_count": 295,
   "id": "803c81fe",
   "metadata": {},
   "outputs": [
    {
     "data": {
      "text/plain": [
       "(56, 7)"
      ]
     },
     "execution_count": 295,
     "metadata": {},
     "output_type": "execute_result"
    }
   ],
   "source": [
    "diff = squary_diff(values)\n",
    "guess = int(math.copysign(math.floor(math.sqrt(abs(diff))), diff))\n",
    "diff, guess"
   ]
  },
  {
   "cell_type": "code",
   "execution_count": 266,
   "id": "beb38cb5",
   "metadata": {},
   "outputs": [
    {
     "data": {
      "text/plain": [
       "5.0"
      ]
     },
     "execution_count": 266,
     "metadata": {},
     "output_type": "execute_result"
    }
   ],
   "source": []
  },
  {
   "cell_type": "code",
   "execution_count": null,
   "id": "6aefbfe1",
   "metadata": {},
   "outputs": [],
   "source": []
  },
  {
   "cell_type": "code",
   "execution_count": 248,
   "id": "6d859e7b",
   "metadata": {},
   "outputs": [
    {
     "data": {
      "text/plain": [
       "-8"
      ]
     },
     "execution_count": 248,
     "metadata": {},
     "output_type": "execute_result"
    }
   ],
   "source": [
    "squary_diff([-2, 6, 4])"
   ]
  },
  {
   "cell_type": "code",
   "execution_count": 229,
   "id": "74602688",
   "metadata": {},
   "outputs": [],
   "source": [
    "import math"
   ]
  },
  {
   "cell_type": "code",
   "execution_count": 251,
   "id": "7cbd6262",
   "metadata": {},
   "outputs": [
    {
     "data": {
      "text/plain": [
       "3"
      ]
     },
     "execution_count": 251,
     "metadata": {},
     "output_type": "execute_result"
    }
   ],
   "source": [
    "math.ceil(math.sqrt(8))"
   ]
  },
  {
   "cell_type": "code",
   "execution_count": 247,
   "id": "c93caa65",
   "metadata": {},
   "outputs": [
    {
     "data": {
      "text/plain": [
       "[4, 3, 2, 1]"
      ]
     },
     "execution_count": 247,
     "metadata": {},
     "output_type": "execute_result"
    }
   ],
   "source": [
    "list(reversed(range(1, 4 + 1)))"
   ]
  },
  {
   "cell_type": "code",
   "execution_count": null,
   "id": "d4cb61f1",
   "metadata": {},
   "outputs": [],
   "source": []
  }
 ],
 "metadata": {
  "kernelspec": {
   "display_name": "google",
   "language": "python",
   "name": "google"
  },
  "language_info": {
   "codemirror_mode": {
    "name": "ipython",
    "version": 3
   },
   "file_extension": ".py",
   "mimetype": "text/x-python",
   "name": "python",
   "nbconvert_exporter": "python",
   "pygments_lexer": "ipython3",
   "version": "3.7.3"
  }
 },
 "nbformat": 4,
 "nbformat_minor": 5
}
