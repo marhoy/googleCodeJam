{
 "cells": [
  {
   "cell_type": "code",
   "execution_count": 8,
   "id": "b0b47866",
   "metadata": {},
   "outputs": [],
   "source": [
    "import random\n",
    "import numpy as np"
   ]
  },
  {
   "cell_type": "code",
   "execution_count": 17,
   "id": "ca932115",
   "metadata": {},
   "outputs": [
    {
     "data": {
      "text/plain": [
       "{2, 4, 5, 6, 9}"
      ]
     },
     "execution_count": 17,
     "metadata": {},
     "output_type": "execute_result"
    }
   ],
   "source": [
    "set(random.sample(range(1, 11), 5)) - {1}"
   ]
  },
  {
   "cell_type": "code",
   "execution_count": 12,
   "id": "b45e3083",
   "metadata": {},
   "outputs": [],
   "source": [
    "n = [1, 2, 3, 2, 2]"
   ]
  },
  {
   "cell_type": "code",
   "execution_count": 13,
   "id": "7ee88b49",
   "metadata": {},
   "outputs": [
    {
     "data": {
      "text/plain": [
       "5.0"
      ]
     },
     "execution_count": 13,
     "metadata": {},
     "output_type": "execute_result"
    }
   ],
   "source": [
    "np.mean(n) * len(n) / 2"
   ]
  },
  {
   "cell_type": "code",
   "execution_count": 21,
   "id": "c6073596",
   "metadata": {},
   "outputs": [
    {
     "data": {
      "text/plain": [
       "2"
      ]
     },
     "execution_count": 21,
     "metadata": {},
     "output_type": "execute_result"
    }
   ],
   "source": [
    "round(1.5)"
   ]
  },
  {
   "cell_type": "code",
   "execution_count": 22,
   "id": "73d27804",
   "metadata": {},
   "outputs": [],
   "source": [
    "edges = set()"
   ]
  },
  {
   "cell_type": "code",
   "execution_count": 27,
   "id": "afba331e",
   "metadata": {},
   "outputs": [],
   "source": [
    "edges.add((1,2))\n",
    "edges.add((2,1))"
   ]
  },
  {
   "cell_type": "code",
   "execution_count": 30,
   "id": "73d72d1f",
   "metadata": {},
   "outputs": [
    {
     "data": {
      "text/plain": [
       "True"
      ]
     },
     "execution_count": 30,
     "metadata": {},
     "output_type": "execute_result"
    }
   ],
   "source": [
    "(1,2) in edges"
   ]
  },
  {
   "cell_type": "code",
   "execution_count": 31,
   "id": "8652d24b",
   "metadata": {},
   "outputs": [],
   "source": [
    "edges.remove((1,2))"
   ]
  },
  {
   "cell_type": "code",
   "execution_count": 32,
   "id": "b1269578",
   "metadata": {},
   "outputs": [
    {
     "data": {
      "text/plain": [
       "{(2, 1)}"
      ]
     },
     "execution_count": 32,
     "metadata": {},
     "output_type": "execute_result"
    }
   ],
   "source": [
    "edges"
   ]
  },
  {
   "cell_type": "code",
   "execution_count": 34,
   "id": "acf38a99",
   "metadata": {},
   "outputs": [
    {
     "ename": "TypeError",
     "evalue": "unsupported operand type(s) for -: 'set' and 'int'",
     "output_type": "error",
     "traceback": [
      "\u001b[0;31m---------------------------------------------------------------------------\u001b[0m",
      "\u001b[0;31mTypeError\u001b[0m                                 Traceback (most recent call last)",
      "\u001b[0;32m/var/folders/7h/cngf75593v7dn504b5f7smsr0000gn/T/ipykernel_58012/2398259646.py\u001b[0m in \u001b[0;36m<module>\u001b[0;34m\u001b[0m\n\u001b[0;32m----> 1\u001b[0;31m \u001b[0mset\u001b[0m\u001b[0;34m(\u001b[0m\u001b[0;34m[\u001b[0m\u001b[0;36m1\u001b[0m\u001b[0;34m,\u001b[0m\u001b[0;36m2\u001b[0m\u001b[0;34m,\u001b[0m\u001b[0;36m3\u001b[0m\u001b[0;34m]\u001b[0m\u001b[0;34m)\u001b[0m \u001b[0;34m-\u001b[0m \u001b[0;36m3\u001b[0m\u001b[0;34m\u001b[0m\u001b[0;34m\u001b[0m\u001b[0m\n\u001b[0m",
      "\u001b[0;31mTypeError\u001b[0m: unsupported operand type(s) for -: 'set' and 'int'"
     ]
    }
   ],
   "source": [
    "set([1,2,3]) - 3"
   ]
  },
  {
   "cell_type": "code",
   "execution_count": null,
   "id": "08b15c1d",
   "metadata": {},
   "outputs": [],
   "source": [
    "path = "
   ]
  }
 ],
 "metadata": {
  "kernelspec": {
   "display_name": "google",
   "language": "python",
   "name": "google"
  },
  "language_info": {
   "codemirror_mode": {
    "name": "ipython",
    "version": 3
   },
   "file_extension": ".py",
   "mimetype": "text/x-python",
   "name": "python",
   "nbconvert_exporter": "python",
   "pygments_lexer": "ipython3",
   "version": "3.7.3"
  }
 },
 "nbformat": 4,
 "nbformat_minor": 5
}
