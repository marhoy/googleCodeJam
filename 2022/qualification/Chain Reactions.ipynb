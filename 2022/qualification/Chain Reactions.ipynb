{
 "cells": [
  {
   "cell_type": "code",
   "execution_count": 163,
   "id": "c04e0a18",
   "metadata": {},
   "outputs": [],
   "source": [
    "def find_initiators(graph, used):\n",
    "    return graph.keys() - graph.values() - used"
   ]
  },
  {
   "cell_type": "code",
   "execution_count": 164,
   "id": "c8b5c226",
   "metadata": {},
   "outputs": [],
   "source": [
    "def find_paths(graph, start_nodes, used):\n",
    "    paths = []\n",
    "    for start in start_nodes:\n",
    "        path, node = [], start\n",
    "        while True:\n",
    "            if node == 0 or node in used:\n",
    "                break\n",
    "            path.append((node, values[node - 1]))\n",
    "            node = graph[node]\n",
    "        paths.append(path)\n",
    "\n",
    "    return paths"
   ]
  },
  {
   "cell_type": "code",
   "execution_count": 165,
   "id": "c0d68f90",
   "metadata": {},
   "outputs": [],
   "source": [
    "def find_best_path(paths):\n",
    "    scores = []\n",
    "    for path in paths:\n",
    "        path_values = [node[1] for node in path]\n",
    "        scores.append(max(path_values) / sum(path_values))\n",
    "    return paths[scores.index(max(scores))]"
   ]
  },
  {
   "cell_type": "code",
   "execution_count": 166,
   "id": "d15cb445",
   "metadata": {},
   "outputs": [],
   "source": [
    "def run_path(path, used):\n",
    "    for node, _ in path:\n",
    "        used.add(node)"
   ]
  },
  {
   "cell_type": "code",
   "execution_count": 167,
   "id": "1066a6da",
   "metadata": {},
   "outputs": [
    {
     "data": {
      "text/plain": [
       "{1: 0, 2: 1, 3: 2, 4: 1, 5: 2, 6: 3, 7: 1, 8: 3}"
      ]
     },
     "execution_count": 167,
     "metadata": {},
     "output_type": "execute_result"
    }
   ],
   "source": [
    "values = [100, 100, 100, 90, 80, 100, 90, 100]\n",
    "links = [0, 1, 2, 1, 2, 3, 1, 3]\n",
    "used = set()\n",
    "\n",
    "graph = {f:t for f, t in enumerate(links, start=1)}\n",
    "graph"
   ]
  },
  {
   "cell_type": "code",
   "execution_count": 159,
   "id": "129ad76d",
   "metadata": {},
   "outputs": [],
   "source": [
    "score = 0\n",
    "while True:\n",
    "    inits = find_initiators(graph, used)\n",
    "    paths = find_paths(graph, inits, used)\n",
    "    if len(paths) == 0:\n",
    "        break\n",
    "    best_path = find_best_path(paths)\n",
    "    score += max([node[1] for node in best_path])\n",
    "    run_path(best_path, used)"
   ]
  },
  {
   "cell_type": "code",
   "execution_count": 160,
   "id": "10ed2182",
   "metadata": {},
   "outputs": [
    {
     "data": {
      "text/plain": [
       "{1, 2, 3, 4, 5, 6, 7, 8}"
      ]
     },
     "execution_count": 160,
     "metadata": {},
     "output_type": "execute_result"
    }
   ],
   "source": [
    "used"
   ]
  },
  {
   "cell_type": "code",
   "execution_count": 170,
   "id": "4ca2c968",
   "metadata": {},
   "outputs": [],
   "source": [
    "inits = find_initiators(graph, used)\n",
    "paths = find_paths(graph, inits, used)"
   ]
  },
  {
   "cell_type": "code",
   "execution_count": 171,
   "id": "2c228f93",
   "metadata": {},
   "outputs": [
    {
     "data": {
      "text/plain": [
       "[[(4, 90), (1, 100)],\n",
       " [(5, 80), (2, 100), (1, 100)],\n",
       " [(6, 100), (3, 100), (2, 100), (1, 100)],\n",
       " [(7, 90), (1, 100)],\n",
       " [(8, 100), (3, 100), (2, 100), (1, 100)]]"
      ]
     },
     "execution_count": 171,
     "metadata": {},
     "output_type": "execute_result"
    }
   ],
   "source": [
    "paths"
   ]
  },
  {
   "cell_type": "code",
   "execution_count": 173,
   "id": "f07d3af1",
   "metadata": {},
   "outputs": [],
   "source": [
    "used = {1,2}"
   ]
  },
  {
   "cell_type": "code",
   "execution_count": 174,
   "id": "bc61a792",
   "metadata": {},
   "outputs": [],
   "source": [
    "import itertools"
   ]
  },
  {
   "cell_type": "code",
   "execution_count": 176,
   "id": "1a71ae31",
   "metadata": {},
   "outputs": [
    {
     "data": {
      "text/plain": [
       "[(6, 100), (3, 100)]"
      ]
     },
     "execution_count": 176,
     "metadata": {},
     "output_type": "execute_result"
    }
   ],
   "source": [
    "list(itertools.takewhile(lambda n: n[0] not in used, paths[2]))"
   ]
  },
  {
   "cell_type": "code",
   "execution_count": 177,
   "id": "327c276d",
   "metadata": {},
   "outputs": [],
   "source": [
    "a = {1: 2, 2: 3, 4:0}"
   ]
  },
  {
   "cell_type": "code",
   "execution_count": 179,
   "id": "3d9f97c3",
   "metadata": {},
   "outputs": [
    {
     "data": {
      "text/plain": [
       "4"
      ]
     },
     "execution_count": 179,
     "metadata": {},
     "output_type": "execute_result"
    }
   ],
   "source": [
    "min(a, key=a.get)"
   ]
  },
  {
   "cell_type": "code",
   "execution_count": 180,
   "id": "fd3a874c",
   "metadata": {},
   "outputs": [
    {
     "ename": "TypeError",
     "evalue": "'set' object is not subscriptable",
     "output_type": "error",
     "traceback": [
      "\u001b[0;31m---------------------------------------------------------------------------\u001b[0m",
      "\u001b[0;31mTypeError\u001b[0m                                 Traceback (most recent call last)",
      "\u001b[0;32m/var/folders/7h/cngf75593v7dn504b5f7smsr0000gn/T/ipykernel_43973/2516177384.py\u001b[0m in \u001b[0;36m<module>\u001b[0;34m\u001b[0m\n\u001b[1;32m      1\u001b[0m \u001b[0;32mimport\u001b[0m \u001b[0mrandom\u001b[0m\u001b[0;34m\u001b[0m\u001b[0;34m\u001b[0m\u001b[0m\n\u001b[0;32m----> 2\u001b[0;31m \u001b[0mrandom\u001b[0m\u001b[0;34m.\u001b[0m\u001b[0mchoice\u001b[0m\u001b[0;34m(\u001b[0m\u001b[0;34m{\u001b[0m\u001b[0;36m1\u001b[0m\u001b[0;34m,\u001b[0m\u001b[0;36m2\u001b[0m\u001b[0;34m,\u001b[0m\u001b[0;36m3\u001b[0m\u001b[0;34m}\u001b[0m\u001b[0;34m)\u001b[0m\u001b[0;34m\u001b[0m\u001b[0;34m\u001b[0m\u001b[0m\n\u001b[0m",
      "\u001b[0;32m~/.pyenv/versions/3.7.3/lib/python3.7/random.py\u001b[0m in \u001b[0;36mchoice\u001b[0;34m(self, seq)\u001b[0m\n\u001b[1;32m    260\u001b[0m         \u001b[0;32mexcept\u001b[0m \u001b[0mValueError\u001b[0m\u001b[0;34m:\u001b[0m\u001b[0;34m\u001b[0m\u001b[0;34m\u001b[0m\u001b[0m\n\u001b[1;32m    261\u001b[0m             \u001b[0;32mraise\u001b[0m \u001b[0mIndexError\u001b[0m\u001b[0;34m(\u001b[0m\u001b[0;34m'Cannot choose from an empty sequence'\u001b[0m\u001b[0;34m)\u001b[0m \u001b[0;32mfrom\u001b[0m \u001b[0;32mNone\u001b[0m\u001b[0;34m\u001b[0m\u001b[0;34m\u001b[0m\u001b[0m\n\u001b[0;32m--> 262\u001b[0;31m         \u001b[0;32mreturn\u001b[0m \u001b[0mseq\u001b[0m\u001b[0;34m[\u001b[0m\u001b[0mi\u001b[0m\u001b[0;34m]\u001b[0m\u001b[0;34m\u001b[0m\u001b[0;34m\u001b[0m\u001b[0m\n\u001b[0m\u001b[1;32m    263\u001b[0m \u001b[0;34m\u001b[0m\u001b[0m\n\u001b[1;32m    264\u001b[0m     \u001b[0;32mdef\u001b[0m \u001b[0mshuffle\u001b[0m\u001b[0;34m(\u001b[0m\u001b[0mself\u001b[0m\u001b[0;34m,\u001b[0m \u001b[0mx\u001b[0m\u001b[0;34m,\u001b[0m \u001b[0mrandom\u001b[0m\u001b[0;34m=\u001b[0m\u001b[0;32mNone\u001b[0m\u001b[0;34m)\u001b[0m\u001b[0;34m:\u001b[0m\u001b[0;34m\u001b[0m\u001b[0;34m\u001b[0m\u001b[0m\n",
      "\u001b[0;31mTypeError\u001b[0m: 'set' object is not subscriptable"
     ]
    }
   ],
   "source": [
    "import random\n",
    "random.choice({1,2,3})"
   ]
  },
  {
   "cell_type": "code",
   "execution_count": null,
   "id": "bac14e3d",
   "metadata": {},
   "outputs": [],
   "source": []
  }
 ],
 "metadata": {
  "kernelspec": {
   "display_name": "google",
   "language": "python",
   "name": "google"
  },
  "language_info": {
   "codemirror_mode": {
    "name": "ipython",
    "version": 3
   },
   "file_extension": ".py",
   "mimetype": "text/x-python",
   "name": "python",
   "nbconvert_exporter": "python",
   "pygments_lexer": "ipython3",
   "version": "3.7.3"
  }
 },
 "nbformat": 4,
 "nbformat_minor": 5
}
