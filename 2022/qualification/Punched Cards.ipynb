{
 "cells": [
  {
   "cell_type": "code",
   "execution_count": 12,
   "id": "ff799094",
   "metadata": {},
   "outputs": [],
   "source": [
    "rows = 2\n",
    "cols = 2"
   ]
  },
  {
   "cell_type": "code",
   "execution_count": 13,
   "id": "6e2dc683",
   "metadata": {},
   "outputs": [
    {
     "name": "stdout",
     "output_type": "stream",
     "text": [
      "..+-+\n",
      "..|.|\n",
      "+-+-+\n",
      "|.|.|\n",
      "+-+-+\n"
     ]
    }
   ],
   "source": [
    "print(\"..\" + \"+-\"*(cols-1) + \"+\")\n",
    "print(\"..\" + \"|.\"*(cols-1) + \"|\")\n",
    "for _ in range(rows - 1):\n",
    "    print(\"+-\"*cols + \"+\")\n",
    "    print(\"|.\"*cols + \"|\")\n",
    "print(\"+-\"*cols + \"+\")\n"
   ]
  },
  {
   "cell_type": "code",
   "execution_count": null,
   "id": "134ddcaf",
   "metadata": {},
   "outputs": [],
   "source": []
  }
 ],
 "metadata": {
  "kernelspec": {
   "display_name": "google",
   "language": "python",
   "name": "google"
  },
  "language_info": {
   "codemirror_mode": {
    "name": "ipython",
    "version": 3
   },
   "file_extension": ".py",
   "mimetype": "text/x-python",
   "name": "python",
   "nbconvert_exporter": "python",
   "pygments_lexer": "ipython3",
   "version": "3.7.3"
  }
 },
 "nbformat": 4,
 "nbformat_minor": 5
}
