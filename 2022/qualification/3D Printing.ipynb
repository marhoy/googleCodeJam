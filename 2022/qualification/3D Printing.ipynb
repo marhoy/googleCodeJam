{
 "cells": [
  {
   "cell_type": "code",
   "execution_count": 2,
   "id": "0a722bf6",
   "metadata": {},
   "outputs": [],
   "source": [
    "c_available = min([300000, 200000, 300000, 500000])\n",
    "m_available = min([300000, 200000, 500000, 300000])\n",
    "y_available = min([300000, 500000, 300000, 200000])\n",
    "k_available = min([1000000, 1000000, 0, 0])\n"
   ]
  },
  {
   "cell_type": "code",
   "execution_count": 19,
   "id": "07b7d9cc",
   "metadata": {},
   "outputs": [],
   "source": [
    "available = {\n",
    "    \"c\": 1000000,\n",
    "    \"m\": 200000,\n",
    "    \"y\": 300000,\n",
    "    \"k\": 200000\n",
    "}\n",
    "available = {\n",
    "    k: v for k, v in sorted(available.items(), key=lambda item: item[1], reverse=True)\n",
    "}\n"
   ]
  },
  {
   "cell_type": "code",
   "execution_count": 20,
   "id": "fa7dcbd3",
   "metadata": {},
   "outputs": [
    {
     "data": {
      "text/plain": [
       "{'c': 1000000, 'y': 300000, 'm': 200000, 'k': 200000}"
      ]
     },
     "execution_count": 20,
     "metadata": {},
     "output_type": "execute_result"
    }
   ],
   "source": [
    "available"
   ]
  },
  {
   "cell_type": "code",
   "execution_count": 21,
   "id": "b5fa2897",
   "metadata": {},
   "outputs": [],
   "source": [
    "remaining = 1_000_000\n",
    "selected = dict() \n",
    "for key, value in available.items():\n",
    "    use = min(value, remaining)\n",
    "    remaining -= use\n",
    "    selected[key] = use"
   ]
  },
  {
   "cell_type": "code",
   "execution_count": 22,
   "id": "12d66dca",
   "metadata": {},
   "outputs": [
    {
     "data": {
      "text/plain": [
       "{'c': 1000000, 'y': 0, 'm': 0, 'k': 0}"
      ]
     },
     "execution_count": 22,
     "metadata": {},
     "output_type": "execute_result"
    }
   ],
   "source": [
    "selected"
   ]
  },
  {
   "cell_type": "code",
   "execution_count": 26,
   "id": "889431e1",
   "metadata": {},
   "outputs": [
    {
     "name": "stdout",
     "output_type": "stream",
     "text": [
      "1000000 0 0 0\n"
     ]
    }
   ],
   "source": [
    "print(\" \".join(str(selected[key]) for key in \"cmyk\"))"
   ]
  },
  {
   "cell_type": "code",
   "execution_count": 24,
   "id": "312bd3e6",
   "metadata": {},
   "outputs": [
    {
     "ename": "SyntaxError",
     "evalue": "invalid syntax (3558102754.py, line 1)",
     "output_type": "error",
     "traceback": [
      "\u001b[0;36m  File \u001b[0;32m\"/var/folders/7h/cngf75593v7dn504b5f7smsr0000gn/T/ipykernel_41492/3558102754.py\"\u001b[0;36m, line \u001b[0;32m1\u001b[0m\n\u001b[0;31m    selected[key]) for key in \"cmyk\"\u001b[0m\n\u001b[0m                 ^\u001b[0m\n\u001b[0;31mSyntaxError\u001b[0m\u001b[0;31m:\u001b[0m invalid syntax\n"
     ]
    }
   ],
   "source": [
    "selected[key]) for key in \"cmyk\""
   ]
  },
  {
   "cell_type": "code",
   "execution_count": null,
   "id": "4af0db36",
   "metadata": {},
   "outputs": [],
   "source": []
  }
 ],
 "metadata": {
  "kernelspec": {
   "display_name": "google",
   "language": "python",
   "name": "google"
  },
  "language_info": {
   "codemirror_mode": {
    "name": "ipython",
    "version": 3
   },
   "file_extension": ".py",
   "mimetype": "text/x-python",
   "name": "python",
   "nbconvert_exporter": "python",
   "pygments_lexer": "ipython3",
   "version": "3.7.3"
  }
 },
 "nbformat": 4,
 "nbformat_minor": 5
}
