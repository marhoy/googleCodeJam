{
 "cells": [
  {
   "cell_type": "code",
   "execution_count": 14,
   "metadata": {},
   "outputs": [],
   "source": [
    "import math\n",
    "from itertools import starmap\n",
    "from operator import mul"
   ]
  },
  {
   "cell_type": "code",
   "execution_count": 51,
   "metadata": {},
   "outputs": [],
   "source": [
    "corners = [\n",
    "    [-.5, -.5, -.5],\n",
    "    [+.5, -.5, -.5],\n",
    "    [+.5, +.5, -.5],\n",
    "    [-.5, +.5, -.5],\n",
    "    [-.5, -.5, +.5],\n",
    "    [+.5, -.5, +.5],\n",
    "    [+.5, +.5, +.5],\n",
    "    [-.5, +.5, +.5],\n",
    "]\n",
    "\n",
    "faces = [\n",
    "    [.5, 0, 0],\n",
    "    [0, .5, 0],\n",
    "    [0, 0, .5]\n",
    "]"
   ]
  },
  {
   "cell_type": "code",
   "execution_count": 17,
   "metadata": {},
   "outputs": [],
   "source": [
    "def matrix_mul(A, B):\n",
    "    return [[sum(starmap(mul, zip(row, col))) for col in zip(*B)] for row in A]"
   ]
  },
  {
   "cell_type": "code",
   "execution_count": 18,
   "metadata": {},
   "outputs": [],
   "source": [
    "def roll_matrix(angle):\n",
    "    R = [\n",
    "        [1, 0, 0],\n",
    "        [0, math.cos(angle), -math.sin(angle)],\n",
    "        [0, math.sin(angle), math.cos(angle)]\n",
    "    ]\n",
    "    return R\n",
    "\n",
    "def pitch_matrix(angle):\n",
    "    R = [\n",
    "        [math.cos(angle), 0, math.sin(angle)],\n",
    "        [0, 1, 0],\n",
    "        [-math.sin(angle), 0, math.cos(angle)]\n",
    "    ]\n",
    "    return R\n",
    "\n",
    "def yaw_matrix(angle):\n",
    "    R = [\n",
    "        [math.cos(angle), -math.sin(angle), 0],\n",
    "        [math.sin(angle), math.cos(angle), 0],\n",
    "        [0, 0, 1]\n",
    "    ]\n",
    "    return R\n",
    "\n",
    "def rotation_matrix(roll, pitch, yaw):\n",
    "    R = matrix_mul(matrix_mul(yaw_matrix(yaw), pitch_matrix(pitch)), roll_matrix(roll))\n",
    "    return R"
   ]
  },
  {
   "cell_type": "code",
   "execution_count": 19,
   "metadata": {},
   "outputs": [
    {
     "data": {
      "text/plain": [
       "[[1.0, 0.0, 0.0], [0.0, 1.0, 0.0], [0.0, 0.0, 1.0]]"
      ]
     },
     "execution_count": 19,
     "metadata": {},
     "output_type": "execute_result"
    }
   ],
   "source": [
    "rotation_matrix(0,0,0)"
   ]
  },
  {
   "cell_type": "code",
   "execution_count": 22,
   "metadata": {},
   "outputs": [],
   "source": [
    "def project_points(points):\n",
    "    projection = []\n",
    "    for row in points:\n",
    "        projection.append(row[:2])\n",
    "    return projection"
   ]
  },
  {
   "cell_type": "code",
   "execution_count": 40,
   "metadata": {},
   "outputs": [],
   "source": [
    "def area(p):\n",
    "    return 0.5 * abs(sum(x0*y1 - x1*y0\n",
    "                         for ((x0, y0), (x1, y1)) in segments(p)))\n",
    "\n",
    "def segments(p):\n",
    "    return zip(p, p[1:] + [p[0]])\n",
    "\n",
    "def area2(points):\n",
    "    area = 0\n",
    "    for i in range(len(points)):\n",
    "        i1 = (i + 1) % len(points)\n",
    "        area += (points[i][1] + points[i1][1]) * (points[i1][0] - points[i][0]) / 2.0\n",
    "    return area\n"
   ]
  },
  {
   "cell_type": "code",
   "execution_count": 42,
   "metadata": {},
   "outputs": [],
   "source": [
    "def PolygonArea(corners):\n",
    "    n = len(corners) # of corners\n",
    "    area = 0.0\n",
    "    for i in range(n):\n",
    "        j = (i + 1) % n\n",
    "        area += corners[i][0] * corners[j][1]\n",
    "        area -= corners[j][0] * corners[i][1]\n",
    "    area = abs(area) / 2.0\n",
    "    return area\n"
   ]
  },
  {
   "cell_type": "code",
   "execution_count": 20,
   "metadata": {},
   "outputs": [],
   "source": [
    "def PolyArea2D(pts):\n",
    "    lines = np.hstack([pts,np.roll(pts,-1,axis=0)])\n",
    "    area = 0.5*abs(sum(x1*y2-x2*y1 for x1,y1,x2,y2 in lines))\n",
    "    return area"
   ]
  },
  {
   "cell_type": "code",
   "execution_count": 44,
   "metadata": {},
   "outputs": [],
   "source": [
    "def area(vertices):\n",
    "    n = len(vertices) # of corners\n",
    "    a = 0.0\n",
    "    for i in range(n):\n",
    "        j = (i + 1) % n\n",
    "        a += abs(vertices[i][0] * vertices[j][1]-vertices[j][0] * vertices[i][1])\n",
    "    result = a / 2.0\n",
    "    return result\n"
   ]
  },
  {
   "cell_type": "code",
   "execution_count": 52,
   "metadata": {},
   "outputs": [
    {
     "data": {
      "text/plain": [
       "[[-0.5, -0.5, -0.5],\n",
       " [0.5, -0.5, -0.5],\n",
       " [0.5, 0.5, -0.5],\n",
       " [-0.5, 0.5, -0.5],\n",
       " [-0.5, -0.5, 0.5],\n",
       " [0.5, -0.5, 0.5],\n",
       " [0.5, 0.5, 0.5],\n",
       " [-0.5, 0.5, 0.5],\n",
       " [-0.5, -0.5, -0.5]]"
      ]
     },
     "execution_count": 52,
     "metadata": {},
     "output_type": "execute_result"
    }
   ],
   "source": [
    "corners.append(corners[0])\n",
    "corners"
   ]
  },
  {
   "cell_type": "code",
   "execution_count": 53,
   "metadata": {},
   "outputs": [
    {
     "data": {
      "text/plain": [
       "2.0"
      ]
     },
     "execution_count": 53,
     "metadata": {},
     "output_type": "execute_result"
    }
   ],
   "source": [
    "area(project_points(corners))"
   ]
  },
  {
   "cell_type": "code",
   "execution_count": 41,
   "metadata": {},
   "outputs": [
    {
     "data": {
      "text/plain": [
       "-2.0"
      ]
     },
     "execution_count": 41,
     "metadata": {},
     "output_type": "execute_result"
    }
   ],
   "source": [
    "area2(project_points(corners))"
   ]
  },
  {
   "cell_type": "code",
   "execution_count": 48,
   "metadata": {},
   "outputs": [
    {
     "data": {
      "text/plain": [
       "[[-0.5, -0.5, -0.5],\n",
       " [0.5, -0.5, -0.5],\n",
       " [0.5, 0.5, -0.5],\n",
       " [-0.5, 0.5, -0.5],\n",
       " [-0.5, -0.5, 0.5],\n",
       " [0.5, -0.5, 0.5],\n",
       " [0.5, 0.5, 0.5],\n",
       " [-0.5, 0.5, 0.5],\n",
       " [-0.5, -0.5, -0.5]]"
      ]
     },
     "execution_count": 48,
     "metadata": {},
     "output_type": "execute_result"
    }
   ],
   "source": [
    "corners"
   ]
  },
  {
   "cell_type": "code",
   "execution_count": null,
   "metadata": {},
   "outputs": [],
   "source": []
  }
 ],
 "metadata": {
  "kernelspec": {
   "display_name": "Python 3",
   "language": "python",
   "name": "python3"
  },
  "language_info": {
   "codemirror_mode": {
    "name": "ipython",
    "version": 3
   },
   "file_extension": ".py",
   "mimetype": "text/x-python",
   "name": "python",
   "nbconvert_exporter": "python",
   "pygments_lexer": "ipython3",
   "version": "3.6.4"
  }
 },
 "nbformat": 4,
 "nbformat_minor": 2
}
