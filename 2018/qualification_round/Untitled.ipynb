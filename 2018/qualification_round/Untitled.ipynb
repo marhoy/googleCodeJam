{
 "cells": [
  {
   "cell_type": "code",
   "execution_count": 1,
   "metadata": {},
   "outputs": [],
   "source": [
    "import numpy as np\n",
    "import scipy.spatial\n",
    "import scipy.optimize"
   ]
  },
  {
   "cell_type": "code",
   "execution_count": 2,
   "metadata": {},
   "outputs": [],
   "source": [
    "corners = np.array([\n",
    "    [-.5, -.5, -.5],\n",
    "    [+.5, -.5, -.5],\n",
    "    [+.5, +.5, -.5],\n",
    "    [-.5, +.5, -.5],\n",
    "    [-.5, -.5, +.5],\n",
    "    [+.5, -.5, +.5],\n",
    "    [+.5, +.5, +.5],\n",
    "    [-.5, +.5, +.5],\n",
    "])"
   ]
  },
  {
   "cell_type": "code",
   "execution_count": 3,
   "metadata": {},
   "outputs": [],
   "source": [
    "def cart2sph(x, y, z):\n",
    "    hxy = np.hypot(x, y)\n",
    "    r = np.hypot(hxy, z)\n",
    "    el = np.arctan2(z, hxy)\n",
    "    az = np.arctan2(y, x)\n",
    "    return az, el, r\n",
    "\n",
    "def sph2cart(az, el, r):\n",
    "    rcos_theta = r * np.cos(el)\n",
    "    x = rcos_theta * np.cos(az)\n",
    "    y = rcos_theta * np.sin(az)\n",
    "    z = r * np.sin(el)\n",
    "    return x, y, z\n",
    "\n",
    "def corners2sph(corners):\n",
    "    sph = np.zeros(corners.shape)\n",
    "    for i, corner in enumerate(corners):\n",
    "        corner_sph = cart2sph(corner[0], corner[1], corner[2])\n",
    "        sph[i,:] = corner_sph\n",
    "    return sph\n",
    "\n",
    "def sph2corners(corners_sph):\n",
    "    corners = np.zeros(corners_sph.shape)\n",
    "    for i, corner_sph in enumerate(corners_sph):\n",
    "        corner = sph2cart(corner_sph[0], corner_sph[1], corner_sph[2])\n",
    "        corners[i,:] = corner\n",
    "    return corners\n",
    "\n",
    "def rotate_corners(corners, theta, phi):\n",
    "    corners_sph = corners2sph(corners)\n",
    "    corners_sph[:,0] += theta\n",
    "    corners_sph[:,1] += phi\n",
    "    corners = sph2corners(corners_sph)\n",
    "    return corners\n",
    "\n",
    "def proj_area(corners):\n",
    "    #  plane = np.array([[1, 0, 0], [0, 0, 1]])\n",
    "    #  projected_corners = np.dot(corners, plane.T)\n",
    "    projected_corners = corners[:,:2]  # Simplify, since the plane is the y-plane\n",
    "    # Find area of convex hull\n",
    "    hull = scipy.spatial.ConvexHull(projected_corners)\n",
    "    return hull.volume\n",
    "\n",
    "def func_min(angle, corners, specified_area):\n",
    "    rotated_corners = rotate_corners(corners, 0, angle)\n",
    "    area = proj_area(rotated_corners)\n",
    "    return abs(area - specified_area)"
   ]
  },
  {
   "cell_type": "code",
   "execution_count": 35,
   "metadata": {},
   "outputs": [
    {
     "data": {
      "text/plain": [
       "1.5707963267948966"
      ]
     },
     "execution_count": 35,
     "metadata": {},
     "output_type": "execute_result"
    }
   ],
   "source": [
    "specified_area = .5\n",
    "result = scipy.optimize.minimize(func_min, 90/180*np.pi, args=(corners, specified_area),\n",
    "                                 method='Nelder-Mead', options={'ftol': 1e-8})\n",
    "angle = result.x[0]\n",
    "angle"
   ]
  },
  {
   "cell_type": "code",
   "execution_count": 36,
   "metadata": {},
   "outputs": [
    {
     "data": {
      "text/plain": [
       " final_simplex: (array([[1.57079633],\n",
       "       [1.57079633]]), array([0.00000000e+00, 6.62041155e-09]))\n",
       "           fun: 0.0\n",
       "       message: 'Optimization terminated successfully.'\n",
       "          nfev: 50\n",
       "           nit: 25\n",
       "        status: 0\n",
       "       success: True\n",
       "             x: array([1.57079633])"
      ]
     },
     "execution_count": 36,
     "metadata": {},
     "output_type": "execute_result"
    }
   ],
   "source": [
    "result"
   ]
  },
  {
   "cell_type": "code",
   "execution_count": 37,
   "metadata": {},
   "outputs": [],
   "source": [
    "rotated_corners = rotate_corners(corners, 0, angle)"
   ]
  },
  {
   "cell_type": "code",
   "execution_count": 38,
   "metadata": {},
   "outputs": [
    {
     "data": {
      "text/plain": [
       "array([[-0.35355339, -0.35355339,  0.70710678],\n",
       "       [ 0.35355339, -0.35355339,  0.70710678],\n",
       "       [ 0.35355339,  0.35355339,  0.70710678],\n",
       "       [-0.35355339,  0.35355339,  0.70710678],\n",
       "       [ 0.35355339,  0.35355339,  0.70710678],\n",
       "       [-0.35355339,  0.35355339,  0.70710678],\n",
       "       [-0.35355339, -0.35355339,  0.70710678],\n",
       "       [ 0.35355339, -0.35355339,  0.70710678]])"
      ]
     },
     "execution_count": 38,
     "metadata": {},
     "output_type": "execute_result"
    }
   ],
   "source": [
    "rotated_corners"
   ]
  },
  {
   "cell_type": "code",
   "execution_count": 49,
   "metadata": {},
   "outputs": [
    {
     "data": {
      "text/plain": [
       "[<matplotlib.lines.Line2D at 0x15164bef28>]"
      ]
     },
     "execution_count": 49,
     "metadata": {},
     "output_type": "execute_result"
    },
    {
     "data": {
      "image/png": "[encoded data removed]",
      "text/plain": [
       "<matplotlib.figure.Figure at 0x15164780b8>"
      ]
     },
     "metadata": {},
     "output_type": "display_data"
    }
   ],
   "source": [
    "import matplotlib.pyplot as plt\n",
    "\n",
    "angles = np.linspace(0, np.pi, 1000)\n",
    "areas = np.zeros(angles.shape)\n",
    "\n",
    "for i, angle in enumerate(angles):\n",
    "    areas[i] = proj_area(rotate_corners(corners, 45/180*np.pi, angle))\n",
    "\n",
    "plt.plot(angles, areas)"
   ]
  },
  {
   "cell_type": "code",
   "execution_count": 44,
   "metadata": {},
   "outputs": [
    {
     "data": {
      "text/plain": [
       "1.4999999994094362"
      ]
     },
     "execution_count": 44,
     "metadata": {},
     "output_type": "execute_result"
    }
   ],
   "source": [
    "proj_area(rotate_corners(corners, 0.5, 0.6154995507933199))"
   ]
  },
  {
   "cell_type": "code",
   "execution_count": 39,
   "metadata": {},
   "outputs": [
    {
     "data": {
      "text/plain": [
       "1.4999999994094355"
      ]
     },
     "execution_count": 39,
     "metadata": {},
     "output_type": "execute_result"
    }
   ],
   "source": [
    "areas.max()"
   ]
  },
  {
   "cell_type": "code",
   "execution_count": 50,
   "metadata": {},
   "outputs": [
    {
     "data": {
      "text/plain": [
       "1.5723686954903868"
      ]
     },
     "execution_count": 50,
     "metadata": {},
     "output_type": "execute_result"
    }
   ],
   "source": [
    "angles[areas.argmin()]"
   ]
  },
  {
   "cell_type": "code",
   "execution_count": 34,
   "metadata": {},
   "outputs": [
    {
     "data": {
      "text/plain": [
       "1.5707963267948966"
      ]
     },
     "execution_count": 34,
     "metadata": {},
     "output_type": "execute_result"
    }
   ],
   "source": [
    "90/180*np.pi"
   ]
  },
  {
   "cell_type": "code",
   "execution_count": null,
   "metadata": {},
   "outputs": [],
   "source": [
    "\n",
    "# projected_corners = np.dot(corners, plane.T)\n",
    "projected_corners = corners[:,:2]  # Simplify, since the plane is the y-plane\n",
    "\n",
    "# Find area of convex hull\n",
    "hull = scipy.spatial.ConvexHull(projected_corners)\n",
    "hull.volume"
   ]
  },
  {
   "cell_type": "code",
   "execution_count": null,
   "metadata": {},
   "outputs": [],
   "source": [
    "for i, corner in enumerate(corners):\n",
    "    corner_sph = cart2sph(corner[0], corner[1], corner[2])\n",
    "    sph[i,:] = corner_sph"
   ]
  },
  {
   "cell_type": "code",
   "execution_count": null,
   "metadata": {},
   "outputs": [],
   "source": []
  },
  {
   "cell_type": "code",
   "execution_count": null,
   "metadata": {},
   "outputs": [],
   "source": [
    "for i in corners:\n",
    "    print(i)"
   ]
  },
  {
   "cell_type": "code",
   "execution_count": null,
   "metadata": {},
   "outputs": [],
   "source": [
    "i"
   ]
  },
  {
   "cell_type": "code",
   "execution_count": null,
   "metadata": {},
   "outputs": [],
   "source": [
    "area = 17\n",
    "field = list()\n",
    "i_max = int(math.ceil(math.sqrt(area)))\n",
    "j_max = int(math.ceil(area/i_max))\n",
    "for i in range(1, i_max + 1):\n",
    "    for j in range(1, j_max + 1):\n",
    "        cell = [i, j]\n",
    "        field.append(cell)\n"
   ]
  },
  {
   "cell_type": "code",
   "execution_count": null,
   "metadata": {},
   "outputs": [],
   "source": [
    "[200]*10"
   ]
  },
  {
   "cell_type": "code",
   "execution_count": null,
   "metadata": {},
   "outputs": [],
   "source": [
    "field"
   ]
  },
  {
   "cell_type": "code",
   "execution_count": null,
   "metadata": {},
   "outputs": [],
   "source": [
    "a = set()\n",
    "a.add((1,2))\n",
    "a.add((2,2))\n",
    "a"
   ]
  },
  {
   "cell_type": "code",
   "execution_count": null,
   "metadata": {},
   "outputs": [],
   "source": [
    "(1,2)[0]"
   ]
  },
  {
   "cell_type": "code",
   "execution_count": null,
   "metadata": {},
   "outputs": [],
   "source": [
    "b = list()\n",
    "b.append([1,2])\n",
    "b.append([2,2])\n",
    "b.append([3,4])\n",
    "b"
   ]
  },
  {
   "cell_type": "code",
   "execution_count": null,
   "metadata": {},
   "outputs": [],
   "source": [
    "[1,2] in b"
   ]
  },
  {
   "cell_type": "code",
   "execution_count": null,
   "metadata": {},
   "outputs": [],
   "source": [
    "b.remove([2,2])\n",
    "b"
   ]
  },
  {
   "cell_type": "code",
   "execution_count": null,
   "metadata": {},
   "outputs": [],
   "source": [
    "dir(a)"
   ]
  },
  {
   "cell_type": "code",
   "execution_count": null,
   "metadata": {},
   "outputs": [],
   "source": [
    "import random"
   ]
  },
  {
   "cell_type": "code",
   "execution_count": null,
   "metadata": {},
   "outputs": [],
   "source": [
    "import math"
   ]
  },
  {
   "cell_type": "code",
   "execution_count": null,
   "metadata": {},
   "outputs": [],
   "source": [
    "for size in range(1, 41):\n",
    "    i = math.ceil(math.sqrt(size))\n",
    "    j = math.ceil(size/i)\n",
    "    print(\"{}: {}*{} = {}\".format(size, i, j, i*j))"
   ]
  },
  {
   "cell_type": "code",
   "execution_count": null,
   "metadata": {},
   "outputs": [],
   "source": [
    "divmod(3, 2)"
   ]
  },
  {
   "cell_type": "code",
   "execution_count": null,
   "metadata": {},
   "outputs": [],
   "source": [
    "200/9"
   ]
  },
  {
   "cell_type": "code",
   "execution_count": null,
   "metadata": {},
   "outputs": [],
   "source": [
    "5*5*9"
   ]
  },
  {
   "cell_type": "code",
   "execution_count": null,
   "metadata": {},
   "outputs": [],
   "source": [
    "math.sqrt(22)"
   ]
  },
  {
   "cell_type": "code",
   "execution_count": null,
   "metadata": {},
   "outputs": [],
   "source": [
    "def test():\n",
    "    for i in range(10):\n",
    "        yield i\n"
   ]
  },
  {
   "cell_type": "code",
   "execution_count": null,
   "metadata": {},
   "outputs": [],
   "source": [
    "for a in test():\n",
    "    print(a)"
   ]
  },
  {
   "cell_type": "code",
   "execution_count": null,
   "metadata": {},
   "outputs": [],
   "source": [
    "14*15"
   ]
  },
  {
   "cell_type": "code",
   "execution_count": null,
   "metadata": {},
   "outputs": [],
   "source": [
    "tuple([1, 0])a"
   ]
  },
  {
   "cell_type": "code",
   "execution_count": null,
   "metadata": {},
   "outputs": [],
   "source": [
    "target_cell = (1,0)\n",
    "\" \".join(map(str, target_cell))"
   ]
  },
  {
   "cell_type": "code",
   "execution_count": null,
   "metadata": {},
   "outputs": [],
   "source": [
    "random.randint(10,10)"
   ]
  },
  {
   "cell_type": "code",
   "execution_count": null,
   "metadata": {},
   "outputs": [],
   "source": [
    "pos = s.rfind('CS')\n",
    "pos"
   ]
  },
  {
   "cell_type": "code",
   "execution_count": null,
   "metadata": {},
   "outputs": [],
   "source": [
    "c = [1, 2]\n",
    "\" \".join(map(str, c))"
   ]
  },
  {
   "cell_type": "code",
   "execution_count": null,
   "metadata": {},
   "outputs": [],
   "source": [
    "str(l)"
   ]
  },
  {
   "cell_type": "code",
   "execution_count": null,
   "metadata": {},
   "outputs": [],
   "source": [
    "s[pos:pos+2][::-1]"
   ]
  },
  {
   "cell_type": "code",
   "execution_count": null,
   "metadata": {},
   "outputs": [],
   "source": [
    "l = list(s)\n",
    "l[pos:pos+2] = ['S', 'C']\n",
    "\"\".join(l)"
   ]
  },
  {
   "cell_type": "code",
   "execution_count": null,
   "metadata": {},
   "outputs": [],
   "source": [
    "s[pos:pos+2] = 'SC'\n",
    "s"
   ]
  },
  {
   "cell_type": "code",
   "execution_count": null,
   "metadata": {},
   "outputs": [],
   "source": [
    "s.reverse()"
   ]
  },
  {
   "cell_type": "code",
   "execution_count": 51,
   "metadata": {},
   "outputs": [],
   "source": [
    "import math"
   ]
  },
  {
   "cell_type": "code",
   "execution_count": 52,
   "metadata": {},
   "outputs": [
    {
     "data": {
      "text/plain": [
       "1.0"
      ]
     },
     "execution_count": 52,
     "metadata": {},
     "output_type": "execute_result"
    }
   ],
   "source": [
    "math.cos(0)"
   ]
  },
  {
   "cell_type": "code",
   "execution_count": null,
   "metadata": {},
   "outputs": [],
   "source": []
  }
 ],
 "metadata": {
  "kernelspec": {
   "display_name": "Python 3",
   "language": "python",
   "name": "python3"
  },
  "language_info": {
   "codemirror_mode": {
    "name": "ipython",
    "version": 3
   },
   "file_extension": ".py",
   "mimetype": "text/x-python",
   "name": "python",
   "nbconvert_exporter": "python",
   "pygments_lexer": "ipython3",
   "version": "3.6.4"
  }
 },
 "nbformat": 4,
 "nbformat_minor": 2
}
