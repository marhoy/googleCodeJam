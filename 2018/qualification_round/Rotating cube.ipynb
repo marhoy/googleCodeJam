{
 "cells": [
  {
   "cell_type": "code",
   "execution_count": 1,
   "metadata": {},
   "outputs": [],
   "source": [
    "import math\n",
    "\n",
    "import matplotlib.pyplot as plt\n",
    "\n",
    "# Since the solution has such a stupid name, we need a hack to import it\n",
    "solution = __import__('04_cubic_ufo_without_scipy')\n",
    "rotate_points = solution.rotate_points\n",
    "project_points = solution.project_points\n",
    "hull_area = solution.hull_area_without_scipy\n"
   ]
  },
  {
   "cell_type": "code",
   "execution_count": 10,
   "metadata": {},
   "outputs": [],
   "source": [
    "corners = [\n",
    "    [-.5, +.5, -.5],\n",
    "    [+.5, +.5, -.5],\n",
    "    [+.5, -.5, -.5],\n",
    "    [+.5, -.5, +.5],\n",
    "    [-.5, -.5, +.5],\n",
    "    [-.5, +.5, +.5],\n",
    "    [-.5, -.5, -.5],\n",
    "    [+.5, +.5, +.5],\n",
    "]"
   ]
  },
  {
   "cell_type": "code",
   "execution_count": 3,
   "metadata": {},
   "outputs": [
    {
     "data": {
      "text/plain": [
       "0.9999999999999998"
      ]
     },
     "execution_count": 3,
     "metadata": {},
     "output_type": "execute_result"
    }
   ],
   "source": [
    "pitch = 45/180*math.pi\n",
    "area = hull_area(project_points(rotate_points(corners, 0, pitch, 0)))\n",
    "area"
   ]
  },
  {
   "cell_type": "markdown",
   "metadata": {},
   "source": [
    "# We first y-rotate 45 degrees and then try increasing the x-rotation"
   ]
  },
  {
   "cell_type": "markdown",
   "metadata": {},
   "source": [
    "## If we order the corners cleverly, the first 6 corners form a hexagon\n",
    "Ordering them like this simplfies the calculation of the area, since the polygon is \"simple\"."
   ]
  },
  {
   "cell_type": "code",
   "execution_count": 4,
   "metadata": {},
   "outputs": [
    {
     "data": {
      "image/png": "[encoded data removed]",
      "text/plain": [
       "<matplotlib.figure.Figure at 0x112c57198>"
      ]
     },
     "metadata": {},
     "output_type": "display_data"
    }
   ],
   "source": [
    "points = project_points(rotate_points(corners, 10/180*math.pi, 45/180*math.pi, 0))\n",
    "for i, point in enumerate(points):\n",
    "    plt.plot(point[0], point[1], '*-')\n",
    "    plt.text(point[0] + .05, point[1] , str(i))\n",
    "plt.gca().set_aspect('equal')"
   ]
  },
  {
   "cell_type": "markdown",
   "metadata": {},
   "source": [
    "# An x-rotation between 0 and 90 covers all possible values for the area"
   ]
  },
  {
   "cell_type": "code",
   "execution_count": 7,
   "metadata": {},
   "outputs": [
    {
     "data": {
      "text/plain": [
       "[<matplotlib.lines.Line2D at 0x1177080f0>]"
      ]
     },
     "execution_count": 7,
     "metadata": {},
     "output_type": "execute_result"
    },
    {
     "data": {
      "image/png": "[encoded data removed]",
      "text/plain": [
       "<matplotlib.figure.Figure at 0x1175a5908>"
      ]
     },
     "metadata": {},
     "output_type": "display_data"
    }
   ],
   "source": [
    "pitch = 45/180*math.pi\n",
    "yaw = 0\n",
    "roll_angles = [a/180*math.pi for a in range(90)]\n",
    "areas = []\n",
    "for roll in roll_angles:\n",
    "    points = project_points(rotate_points(corners, roll, pitch, yaw))\n",
    "    selected_points = points[:6]\n",
    "    areas.append(hull_area(selected_points))\n",
    "plt.plot(roll_angles, areas)"
   ]
  },
  {
   "cell_type": "markdown",
   "metadata": {},
   "source": [
    "## Max area is at the tetraedon angle $\\arctan({\\sqrt{2}})$"
   ]
  },
  {
   "cell_type": "code",
   "execution_count": 9,
   "metadata": {},
   "outputs": [
    {
     "data": {
      "text/plain": [
       "1.732050807568877"
      ]
     },
     "execution_count": 9,
     "metadata": {},
     "output_type": "execute_result"
    }
   ],
   "source": [
    "roll_angle = math.atan(math.sqrt(2))\n",
    "hull_area(project_points(rotate_points(corners, roll_angle, 45/180*math.pi, 0))[:6])"
   ]
  },
  {
   "cell_type": "markdown",
   "metadata": {},
   "source": [
    "# So, in order to find a specified area, we can search for roll_angles between 0 and  $\\arctan({\\sqrt{2}})$"
   ]
  },
  {
   "cell_type": "code",
   "execution_count": null,
   "metadata": {},
   "outputs": [],
   "source": []
  },
  {
   "cell_type": "code",
   "execution_count": null,
   "metadata": {},
   "outputs": [],
   "source": []
  },
  {
   "cell_type": "code",
   "execution_count": null,
   "metadata": {},
   "outputs": [],
   "source": []
  }
 ],
 "metadata": {
  "kernelspec": {
   "display_name": "Python 3",
   "language": "python",
   "name": "python3"
  },
  "language_info": {
   "codemirror_mode": {
    "name": "ipython",
    "version": 3
   },
   "file_extension": ".py",
   "mimetype": "text/x-python",
   "name": "python",
   "nbconvert_exporter": "python",
   "pygments_lexer": "ipython3",
   "version": "3.6.4"
  }
 },
 "nbformat": 4,
 "nbformat_minor": 2
}
