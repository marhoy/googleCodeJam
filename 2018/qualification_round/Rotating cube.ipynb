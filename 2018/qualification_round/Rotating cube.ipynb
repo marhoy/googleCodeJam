{
 "cells": [
  {
   "cell_type": "code",
   "execution_count": 1,
   "metadata": {},
   "outputs": [],
   "source": [
    "import math\n",
    "import numpy as np\n",
    "import scipy.spatial\n",
    "import scipy.optimize"
   ]
  },
  {
   "cell_type": "code",
   "execution_count": 2,
   "metadata": {},
   "outputs": [],
   "source": [
    "corners = np.array([\n",
    "    [-.5, -.5, -.5],\n",
    "    [+.5, -.5, -.5],\n",
    "    [+.5, +.5, -.5],\n",
    "    [-.5, +.5, -.5],\n",
    "    [-.5, -.5, +.5],\n",
    "    [+.5, -.5, +.5],\n",
    "    [+.5, +.5, +.5],\n",
    "    [-.5, +.5, +.5],\n",
    "])\n",
    "\n",
    "faces = np.array([\n",
    "    [.5, 0, 0],\n",
    "    [0, .5, 0],\n",
    "    [0, 0, .5]\n",
    "])"
   ]
  },
  {
   "cell_type": "code",
   "execution_count": 15,
   "metadata": {},
   "outputs": [],
   "source": [
    "def roll_matrix(angle):\n",
    "    R =  np.array([\n",
    "        [1, 0, 0],\n",
    "        [0, np.cos(angle), -np.sin(angle)],\n",
    "        [0, np.sin(angle), np.cos(angle)]\n",
    "    ])\n",
    "    return R\n",
    "\n",
    "def pitch_matrix(angle):\n",
    "    R =  np.array([\n",
    "        [np.cos(angle), 0, np.sin(angle)],\n",
    "        [0, 1, 0],\n",
    "        [-np.sin(angle), 0, np.cos(angle)]\n",
    "    ])\n",
    "    return R\n",
    "\n",
    "def yaw_matrix(angle):\n",
    "    R = np.array([\n",
    "        [np.cos(angle), -np.sin(angle), 0],\n",
    "        [np.sin(angle), np.cos(angle), 0],\n",
    "        [0, 0, 1]\n",
    "    ])\n",
    "    return R\n",
    "    \n",
    "def rotation_matrix(roll, pitch, yaw):\n",
    "    R = np.dot(np.dot(yaw_matrix(yaw), pitch_matrix(pitch)), roll_matrix(roll))\n",
    "    return R\n",
    "\n",
    "def rotate_points(points, roll, pitch, yaw):\n",
    "    R = rotation_matrix(roll, pitch, yaw)\n",
    "    rotated_points = np.dot(points, R)\n",
    "    return rotated_points\n",
    "\n",
    "def proj_area(corners):\n",
    "    #  plane = np.array([[1, 0, 0], [0, 0, 1]])\n",
    "    #  projected_corners = np.dot(corners, plane.T)\n",
    "    projected_corners = corners[:,:2]  # Simplify, since the plane is the y-plane\n",
    "    # Find area of convex hull\n",
    "    hull = scipy.spatial.ConvexHull(projected_corners)\n",
    "    return hull.volume\n",
    "\n",
    "def func_min(angles, corners, specified_area):\n",
    "    rotated_corners = rotate_points(corners, angles[0], angles[1], 0)\n",
    "    area = proj_area(rotated_corners)\n",
    "    return abs(area - specified_area)"
   ]
  },
  {
   "cell_type": "code",
   "execution_count": 16,
   "metadata": {},
   "outputs": [
    {
     "data": {
      "text/plain": [
       "array([[1., 0., 0.],\n",
       "       [0., 1., 0.],\n",
       "       [0., 0., 1.]])"
      ]
     },
     "execution_count": 16,
     "metadata": {},
     "output_type": "execute_result"
    }
   ],
   "source": [
    "R = rotation_matrix(0,0,0)\n",
    "R"
   ]
  },
  {
   "cell_type": "code",
   "execution_count": 17,
   "metadata": {},
   "outputs": [
    {
     "data": {
      "text/plain": [
       "array([[-0.5, -0.5, -0.5],\n",
       "       [ 0.5, -0.5, -0.5],\n",
       "       [ 0.5,  0.5, -0.5],\n",
       "       [-0.5,  0.5, -0.5],\n",
       "       [-0.5, -0.5,  0.5],\n",
       "       [ 0.5, -0.5,  0.5],\n",
       "       [ 0.5,  0.5,  0.5],\n",
       "       [-0.5,  0.5,  0.5]])"
      ]
     },
     "execution_count": 17,
     "metadata": {},
     "output_type": "execute_result"
    }
   ],
   "source": [
    "rotate_points(corners, 0, 0, 0)"
   ]
  },
  {
   "cell_type": "code",
   "execution_count": 18,
   "metadata": {},
   "outputs": [
    {
     "data": {
      "text/plain": [
       "1.0"
      ]
     },
     "execution_count": 18,
     "metadata": {},
     "output_type": "execute_result"
    }
   ],
   "source": [
    "proj_area(rotate_points(corners, 0, 0, 0))"
   ]
  },
  {
   "cell_type": "code",
   "execution_count": 19,
   "metadata": {},
   "outputs": [
    {
     "data": {
      "text/plain": [
       "0.0"
      ]
     },
     "execution_count": 19,
     "metadata": {},
     "output_type": "execute_result"
    }
   ],
   "source": [
    "func_min([0,0], corners, 1)"
   ]
  },
  {
   "cell_type": "code",
   "execution_count": 20,
   "metadata": {},
   "outputs": [
    {
     "data": {
      "text/plain": [
       "1.4142135623730951"
      ]
     },
     "execution_count": 20,
     "metadata": {},
     "output_type": "execute_result"
    }
   ],
   "source": [
    "np.sqrt(2)"
   ]
  },
  {
   "cell_type": "code",
   "execution_count": 21,
   "metadata": {},
   "outputs": [
    {
     "data": {
      "text/plain": [
       "(0.16144353290167968, 0.32983859878367905)"
      ]
     },
     "execution_count": 21,
     "metadata": {},
     "output_type": "execute_result"
    }
   ],
   "source": [
    "x0 = [0, 0]\n",
    "specified_area = np.sqrt(2)\n",
    "result = scipy.optimize.minimize(func_min, x0, args=(corners, specified_area),\n",
    "                                 method='Nelder-Mead', options={'ftol': 1e-14})\n",
    "roll, pitch = result.x\n",
    "roll, pitch"
   ]
  },
  {
   "cell_type": "code",
   "execution_count": 22,
   "metadata": {},
   "outputs": [
    {
     "data": {
      "text/plain": [
       " final_simplex: (array([[0.16144353, 0.3298386 ],\n",
       "       [0.16144348, 0.32983866],\n",
       "       [0.1614435 , 0.32983865]]), array([1.11022302e-15, 3.99680289e-15, 8.88178420e-15]))\n",
       "           fun: 1.1102230246251565e-15\n",
       "       message: 'Optimization terminated successfully.'\n",
       "          nfev: 171\n",
       "           nit: 95\n",
       "        status: 0\n",
       "       success: True\n",
       "             x: array([0.16144353, 0.3298386 ])"
      ]
     },
     "execution_count": 22,
     "metadata": {},
     "output_type": "execute_result"
    }
   ],
   "source": [
    "result"
   ]
  },
  {
   "cell_type": "code",
   "execution_count": 24,
   "metadata": {},
   "outputs": [
    {
     "data": {
      "text/plain": [
       "1.1102230246251565e-15"
      ]
     },
     "execution_count": 24,
     "metadata": {},
     "output_type": "execute_result"
    }
   ],
   "source": [
    "proj_area(rotate_points(corners, roll, pitch, 0)) - specified_area"
   ]
  },
  {
   "cell_type": "code",
   "execution_count": 28,
   "metadata": {},
   "outputs": [],
   "source": [
    "rotated_faces = rotate_points(faces, roll, pitch, 0)"
   ]
  },
  {
   "cell_type": "code",
   "execution_count": 29,
   "metadata": {},
   "outputs": [
    {
     "name": "stdout",
     "output_type": "stream",
     "text": [
      "0.47304731607235745 0.026031573695093697 0.15983927529770675\n",
      "0.0 0.49349813689839306 -0.08037156759585402\n",
      "-0.16194516589493857 0.0760391086794936 0.4668959382929873\n"
     ]
    }
   ],
   "source": [
    "for face in rotated_faces:\n",
    "    print(\"{} {} {}\".format(face[0], face[1], face[2]))"
   ]
  },
  {
   "cell_type": "code",
   "execution_count": 30,
   "metadata": {},
   "outputs": [
    {
     "data": {
      "text/plain": [
       "array([[ 0.47304732,  0.02603157,  0.15983928],\n",
       "       [ 0.        ,  0.49349814, -0.08037157],\n",
       "       [-0.16194517,  0.07603911,  0.46689594]])"
      ]
     },
     "execution_count": 30,
     "metadata": {},
     "output_type": "execute_result"
    }
   ],
   "source": [
    "rotated_faces"
   ]
  },
  {
   "cell_type": "code",
   "execution_count": null,
   "metadata": {},
   "outputs": [],
   "source": []
  }
 ],
 "metadata": {
  "kernelspec": {
   "display_name": "Python 3",
   "language": "python",
   "name": "python3"
  },
  "language_info": {
   "codemirror_mode": {
    "name": "ipython",
    "version": 3
   },
   "file_extension": ".py",
   "mimetype": "text/x-python",
   "name": "python",
   "nbconvert_exporter": "python",
   "pygments_lexer": "ipython3",
   "version": "3.6.4"
  }
 },
 "nbformat": 4,
 "nbformat_minor": 2
}
