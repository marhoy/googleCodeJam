{
 "cells": [
  {
   "cell_type": "code",
   "execution_count": 4,
   "metadata": {
    "ExecuteTime": {
     "end_time": "2019-03-31T21:41:13.045654Z",
     "start_time": "2019-03-31T21:41:13.024606Z"
    }
   },
   "outputs": [
    {
     "name": "stdout",
     "output_type": "stream",
     "text": [
      "The autoreload extension is already loaded. To reload it, use:\n",
      "  %reload_ext autoreload\n"
     ]
    }
   ],
   "source": [
    "%load_ext autoreload\n",
    "%autoreload 2"
   ]
  },
  {
   "cell_type": "code",
   "execution_count": 5,
   "metadata": {
    "ExecuteTime": {
     "end_time": "2019-03-31T21:41:20.614434Z",
     "start_time": "2019-03-31T21:41:20.595554Z"
    }
   },
   "outputs": [],
   "source": [
    "import utils"
   ]
  },
  {
   "cell_type": "code",
   "execution_count": 7,
   "metadata": {},
   "outputs": [
    {
     "data": {
      "text/plain": [
       "{3}"
      ]
     },
     "execution_count": 7,
     "metadata": {},
     "output_type": "execute_result"
    }
   ],
   "source": [
    "utils.factors(9)"
   ]
  },
  {
   "cell_type": "code",
   "execution_count": 14,
   "metadata": {
    "ExecuteTime": {
     "end_time": "2019-03-31T21:44:22.698021Z",
     "start_time": "2019-03-31T21:44:22.680795Z"
    }
   },
   "outputs": [],
   "source": [
    "points = ([0,0],[1,1],[2,2],[3,3],[1,2])"
   ]
  },
  {
   "cell_type": "code",
   "execution_count": 15,
   "metadata": {
    "ExecuteTime": {
     "end_time": "2019-03-31T21:44:22.843069Z",
     "start_time": "2019-03-31T21:44:22.815563Z"
    }
   },
   "outputs": [
    {
     "data": {
      "text/plain": [
       "[[0, 0], [1, 1], [2, 2], [3, 3], [1, 2]]"
      ]
     },
     "execution_count": 15,
     "metadata": {},
     "output_type": "execute_result"
    }
   ],
   "source": [
    "utils.convex_hull(points)"
   ]
  },
  {
   "cell_type": "code",
   "execution_count": 12,
   "metadata": {
    "ExecuteTime": {
     "end_time": "2019-03-31T21:44:12.027793Z",
     "start_time": "2019-03-31T21:44:12.010512Z"
    }
   },
   "outputs": [
    {
     "data": {
      "text/plain": [
       "[[0, 0], [1, 1], [1, 2], [2, 2], [3, 3]]"
      ]
     },
     "execution_count": 12,
     "metadata": {},
     "output_type": "execute_result"
    }
   ],
   "source": [
    "sorted(points)"
   ]
  },
  {
   "cell_type": "code",
   "execution_count": 19,
   "metadata": {
    "ExecuteTime": {
     "end_time": "2019-03-31T21:52:37.590494Z",
     "start_time": "2019-03-31T21:52:37.570681Z"
    }
   },
   "outputs": [],
   "source": [
    "s = \"\"\"0.3215348546593775 0.03629583077160248 \n",
    "0.02402358131857918 -0.2356728797179394 \n",
    "0.04590851212470659 -0.4156409924995536 \n",
    "0.3218384001607433 0.1379850698988746   \n",
    "0.11506479756447 -0.1059521474930943    \n",
    "0.2622539999543261 -0.29702873322836    \n",
    "-0.161920957418085 -0.4055339716426413  \n",
    "0.1905378631228002 0.3698601009043493   \n",
    "0.2387090918968516 -0.01629827079949742\n",
    "0.07495888748668034 -0.1659825110491202\n",
    "0.3319341836794598 -0.1821814101954749\n",
    "0.07703635755650362 -0.2499430638271785\n",
    "0.2069242999022122 -0.2232970760420869\n",
    "0.04604079532068295 -0.1923573186549892\n",
    "0.05054295812784038 0.4754929463150845\n",
    "-0.3900589168910486 0.2797829520700341\n",
    "0.3120693385713448 -0.0506329867529059\n",
    "0.01138812723698857 0.4002504701728471\n",
    "0.009645149586391732 0.1060251100976254\n",
    "-0.03597933197019559 0.2953639456959105\n",
    "0.1818290866742182 0.001454397571696298\n",
    "0.444056063372694 0.2502497166863175\n",
    "-0.05301752458607545 -0.06553921621808712\n",
    "0.4823896228171788 -0.4776170002088109\n",
    "-0.3089226845734964 -0.06356112199235814\n",
    "-0.271780741188471 0.1810810595574612\n",
    "0.4293626522918815 0.2980897964891882\n",
    "-0.004796652127799228 0.382663812844701\n",
    "0.430695573269106 -0.2995073500084759\n",
    "0.1799668387323309 -0.2973467472915973\n",
    "0.4932166845474547 0.4928094162538735\n",
    "-0.3521487911717489 0.4352656197131292\n",
    "-0.4907368011686362 0.1865826865533206\n",
    "-0.1047924716070224 -0.247073392148198\n",
    "0.4374961861758457 -0.001606279519951237\n",
    "0.003256207800708899 -0.2729194320486108\n",
    "0.04310378203457577 0.4452604050238248\n",
    "0.4916198379282093 -0.345391701297268\n",
    "0.001675087028811806 0.1531837672490476\n",
    "-0.4404289572876217 -0.2894855991839297\"\"\""
   ]
  },
  {
   "cell_type": "code",
   "execution_count": 22,
   "metadata": {
    "ExecuteTime": {
     "end_time": "2019-03-31T21:53:49.160856Z",
     "start_time": "2019-03-31T21:53:49.141454Z"
    }
   },
   "outputs": [],
   "source": [
    "points = []\n",
    "for p in s.split('\\n'):\n",
    "    x, y = p.split()\n",
    "    points.append([float(x), float(y)])"
   ]
  },
  {
   "cell_type": "code",
   "execution_count": 24,
   "metadata": {
    "ExecuteTime": {
     "end_time": "2019-03-31T21:54:00.757309Z",
     "start_time": "2019-03-31T21:54:00.735908Z"
    }
   },
   "outputs": [
    {
     "data": {
      "text/plain": [
       "[[-0.4907368011686362, 0.1865826865533206],\n",
       " [-0.4404289572876217, -0.2894855991839297],\n",
       " [-0.161920957418085, -0.4055339716426413],\n",
       " [0.4823896228171788, -0.4776170002088109],\n",
       " [0.4916198379282093, -0.345391701297268],\n",
       " [0.4932166845474547, 0.4928094162538735],\n",
       " [0.05054295812784038, 0.4754929463150845],\n",
       " [-0.3521487911717489, 0.4352656197131292]]"
      ]
     },
     "execution_count": 24,
     "metadata": {},
     "output_type": "execute_result"
    }
   ],
   "source": [
    "utils.convex_hull(points)"
   ]
  },
  {
   "cell_type": "code",
   "execution_count": 91,
   "metadata": {
    "ExecuteTime": {
     "end_time": "2019-04-03T17:40:56.386029Z",
     "start_time": "2019-04-03T17:40:56.369589Z"
    }
   },
   "outputs": [],
   "source": [
    "pc = '--+-'"
   ]
  },
  {
   "cell_type": "code",
   "execution_count": 92,
   "metadata": {
    "ExecuteTime": {
     "end_time": "2019-04-03T17:40:56.622082Z",
     "start_time": "2019-04-03T17:40:56.605408Z"
    }
   },
   "outputs": [],
   "source": [
    "def flip_pancakes(pancakes: str, where: int):\n",
    "    top = pancakes[:where]\n",
    "    bottom = pancakes[where:]\n",
    "    top = ''.join(['-' if c == '+' else '+' for c in top])\n",
    "    print(top, bottom)\n",
    "    pancakes = top[::-1] + bottom\n",
    "    return pancakes"
   ]
  },
  {
   "cell_type": "code",
   "execution_count": 93,
   "metadata": {
    "ExecuteTime": {
     "end_time": "2019-04-03T17:40:56.980660Z",
     "start_time": "2019-04-03T17:40:56.961871Z"
    }
   },
   "outputs": [
    {
     "name": "stdout",
     "output_type": "stream",
     "text": [
      "++-+ \n",
      "+-++\n",
      "+-++\n",
      "- -++\n",
      "++ ++\n",
      "++++\n",
      "++++\n"
     ]
    }
   ],
   "source": [
    "flips = 0\n",
    "for i in range(len(pc), 0, -1):\n",
    "    if pc[i - 1] == '-':\n",
    "        if pc.startswith('+'):\n",
    "            j = pc.find('-')\n",
    "            pc = flip_pancakes(pc,j)\n",
    "            flips += 1\n",
    "        pc = flip_pancakes(pc, i)\n",
    "        flips += 1\n",
    "    print(pc)"
   ]
  },
  {
   "cell_type": "code",
   "execution_count": 94,
   "metadata": {
    "ExecuteTime": {
     "end_time": "2019-04-03T17:41:05.635428Z",
     "start_time": "2019-04-03T17:41:05.616896Z"
    }
   },
   "outputs": [
    {
     "data": {
      "text/plain": [
       "3"
      ]
     },
     "execution_count": 94,
     "metadata": {},
     "output_type": "execute_result"
    }
   ],
   "source": [
    "flips"
   ]
  },
  {
   "cell_type": "code",
   "execution_count": 89,
   "metadata": {
    "ExecuteTime": {
     "end_time": "2019-04-03T17:40:15.539536Z",
     "start_time": "2019-04-03T17:40:15.521632Z"
    }
   },
   "outputs": [
    {
     "data": {
      "text/plain": [
       "[10, 9, 8, 7, 6, 5, 4, 3, 2, 1]"
      ]
     },
     "execution_count": 89,
     "metadata": {},
     "output_type": "execute_result"
    }
   ],
   "source": [
    "[i for i in range(10,0,-1)]"
   ]
  },
  {
   "cell_type": "code",
   "execution_count": null,
   "metadata": {},
   "outputs": [],
   "source": []
  },
  {
   "cell_type": "code",
   "execution_count": 77,
   "metadata": {
    "ExecuteTime": {
     "end_time": "2019-04-03T17:30:07.734325Z",
     "start_time": "2019-04-03T17:30:07.714535Z"
    }
   },
   "outputs": [
    {
     "name": "stdout",
     "output_type": "stream",
     "text": [
      "++-+ \n"
     ]
    },
    {
     "data": {
      "text/plain": [
       "'+-++'"
      ]
     },
     "execution_count": 77,
     "metadata": {},
     "output_type": "execute_result"
    }
   ],
   "source": [
    "flip_pancakes(pc,6)"
   ]
  },
  {
   "cell_type": "code",
   "execution_count": 51,
   "metadata": {
    "ExecuteTime": {
     "end_time": "2019-04-03T17:21:24.623404Z",
     "start_time": "2019-04-03T17:21:24.606058Z"
    }
   },
   "outputs": [
    {
     "data": {
      "text/plain": [
       "'+------'"
      ]
     },
     "execution_count": 51,
     "metadata": {},
     "output_type": "execute_result"
    }
   ],
   "source": [
    "pc[::-1]"
   ]
  },
  {
   "cell_type": "code",
   "execution_count": 107,
   "metadata": {
    "ExecuteTime": {
     "end_time": "2019-04-03T18:55:30.163189Z",
     "start_time": "2019-04-03T18:55:30.146074Z"
    }
   },
   "outputs": [],
   "source": [
    "def flip_pancakes(pancakes, where, width):\n",
    "    print(pancakes, where, where+width)\n",
    "    selection = pancakes[where: where + width]\n",
    "    flipped = ''.join(['-' if c == '+' else '+' for c in selection])\n",
    "    return pancakes[:where] + flipped + pancakes[where + width:]"
   ]
  },
  {
   "cell_type": "code",
   "execution_count": 143,
   "metadata": {
    "ExecuteTime": {
     "end_time": "2019-04-04T15:26:09.679065Z",
     "start_time": "2019-04-04T15:26:09.663069Z"
    }
   },
   "outputs": [],
   "source": [
    "pc = '---+-++-'\n",
    "K = 3"
   ]
  },
  {
   "cell_type": "code",
   "execution_count": 144,
   "metadata": {
    "ExecuteTime": {
     "end_time": "2019-04-04T15:26:10.018515Z",
     "start_time": "2019-04-04T15:26:09.998328Z"
    }
   },
   "outputs": [
    {
     "name": "stdout",
     "output_type": "stream",
     "text": [
      "0\n",
      "---+-++- 0 3\n",
      "1\n",
      "2\n",
      "3\n",
      "4\n",
      "++++-++- 4 7\n",
      "5\n",
      "+++++--- 5 8\n"
     ]
    },
    {
     "data": {
      "text/plain": [
       "'++++++++'"
      ]
     },
     "execution_count": 144,
     "metadata": {},
     "output_type": "execute_result"
    }
   ],
   "source": [
    "for i in range(len(pc) - K + 1):\n",
    "    if pc[i] == '-':\n",
    "        pc = flip_pancakes(pc, i, K)\n",
    "pc"
   ]
  },
  {
   "cell_type": "code",
   "execution_count": 152,
   "metadata": {
    "ExecuteTime": {
     "end_time": "2019-04-04T15:38:25.091466Z",
     "start_time": "2019-04-04T15:38:25.074009Z"
    }
   },
   "outputs": [
    {
     "data": {
      "text/plain": [
       "''"
      ]
     },
     "execution_count": 152,
     "metadata": {},
     "output_type": "execute_result"
    }
   ],
   "source": [
    "str(8)[1:]"
   ]
  },
  {
   "cell_type": "code",
   "execution_count": null,
   "metadata": {},
   "outputs": [],
   "source": [
    "8"
   ]
  },
  {
   "cell_type": "code",
   "execution_count": 185,
   "metadata": {
    "ExecuteTime": {
     "end_time": "2019-04-04T15:52:43.550835Z",
     "start_time": "2019-04-04T15:52:43.535087Z"
    }
   },
   "outputs": [],
   "source": [
    "def is_tidy(number):\n",
    "    digits = str(number)\n",
    "    for a, b in zip(digits[:], digits[1:]):\n",
    "        print(a,b)\n",
    "        if b < a:\n",
    "            return False\n",
    "    return True"
   ]
  },
  {
   "cell_type": "code",
   "execution_count": 187,
   "metadata": {
    "ExecuteTime": {
     "end_time": "2019-04-04T15:52:49.796439Z",
     "start_time": "2019-04-04T15:52:49.774091Z"
    }
   },
   "outputs": [
    {
     "name": "stdout",
     "output_type": "stream",
     "text": [
      "7 7\n"
     ]
    },
    {
     "data": {
      "text/plain": [
       "True"
      ]
     },
     "execution_count": 187,
     "metadata": {},
     "output_type": "execute_result"
    }
   ],
   "source": [
    "is_tidy(77)"
   ]
  },
  {
   "cell_type": "code",
   "execution_count": 213,
   "metadata": {
    "ExecuteTime": {
     "end_time": "2019-04-04T16:00:04.134231Z",
     "start_time": "2019-04-04T16:00:04.116131Z"
    }
   },
   "outputs": [],
   "source": [
    "def shortcut(number):\n",
    "    digits = str(number)\n",
    "    for i, (a, b) in enumerate(zip(digits[:], digits[1:])):\n",
    "        if b <= a:\n",
    "            # print(digits[:i+1], '0'*(len(digits) - i - 1), a, b)\n",
    "            digits = digits[:i+1] + '0'*(len(digits) - i - 1)\n",
    "            break\n",
    "    return int(digits)"
   ]
  },
  {
   "cell_type": "code",
   "execution_count": 226,
   "metadata": {
    "ExecuteTime": {
     "end_time": "2019-04-04T16:20:53.983328Z",
     "start_time": "2019-04-04T16:20:53.966093Z"
    }
   },
   "outputs": [],
   "source": [
    "import re\n",
    "\n",
    "def replace_function(matchobj):\n",
    "    digit = matchobj.group(0)[0]\n",
    "    replacement = digit + '0'*(len(matchobj.group(0)) - 1)\n",
    "    return replacement\n",
    "\n",
    "\n",
    "def reduce_number(string):\n",
    "    for i in range(1, 10):\n",
    "        # Replace all substrings iiii with i000\n",
    "        string = re.sub(str(i) + '{2,}', replace_function, string)\n",
    "    return string"
   ]
  },
  {
   "cell_type": "code",
   "execution_count": 227,
   "metadata": {
    "ExecuteTime": {
     "end_time": "2019-04-04T16:20:54.272468Z",
     "start_time": "2019-04-04T16:20:54.254543Z"
    }
   },
   "outputs": [
    {
     "data": {
      "text/plain": [
       "'10000000'"
      ]
     },
     "execution_count": 227,
     "metadata": {},
     "output_type": "execute_result"
    }
   ],
   "source": [
    "reduce_number('11111000')"
   ]
  },
  {
   "cell_type": "code",
   "execution_count": null,
   "metadata": {},
   "outputs": [],
   "source": [
    "11111000\n",
    "10000000"
   ]
  },
  {
   "cell_type": "code",
   "execution_count": 223,
   "metadata": {
    "ExecuteTime": {
     "end_time": "2019-04-04T16:18:33.553358Z",
     "start_time": "2019-04-04T16:18:33.536801Z"
    }
   },
   "outputs": [
    {
     "data": {
      "text/plain": [
       "'1111'"
      ]
     },
     "execution_count": 223,
     "metadata": {},
     "output_type": "execute_result"
    }
   ],
   "source": [
    "match[1]"
   ]
  },
  {
   "cell_type": "code",
   "execution_count": 211,
   "metadata": {
    "ExecuteTime": {
     "end_time": "2019-04-04T15:57:51.228377Z",
     "start_time": "2019-04-04T15:57:51.209934Z"
    }
   },
   "outputs": [
    {
     "name": "stdout",
     "output_type": "stream",
     "text": [
      "1 3\n",
      "3 3\n"
     ]
    },
    {
     "data": {
      "text/plain": [
       "True"
      ]
     },
     "execution_count": 211,
     "metadata": {},
     "output_type": "execute_result"
    }
   ],
   "source": [
    "is_tidy(133)"
   ]
  },
  {
   "cell_type": "code",
   "execution_count": 228,
   "metadata": {
    "ExecuteTime": {
     "end_time": "2019-04-05T17:21:31.575509Z",
     "start_time": "2019-04-05T17:21:31.533615Z"
    }
   },
   "outputs": [
    {
     "data": {
      "text/plain": [
       "3"
      ]
     },
     "execution_count": 228,
     "metadata": {},
     "output_type": "execute_result"
    }
   ],
   "source": [
    "[1,2,3].pop()"
   ]
  },
  {
   "cell_type": "code",
   "execution_count": 229,
   "metadata": {
    "ExecuteTime": {
     "end_time": "2019-04-05T17:27:24.126692Z",
     "start_time": "2019-04-05T17:27:24.107733Z"
    }
   },
   "outputs": [
    {
     "data": {
      "text/plain": [
       "[(-1, -1), (-1, 0), (-1, 1), (0, -1), (0, 1), (1, -1), (1, 0), (1, 1)]"
      ]
     },
     "execution_count": 229,
     "metadata": {},
     "output_type": "execute_result"
    }
   ],
   "source": [
    "adjacency = [(i,j) for i in (-1,0,1) for j in (-1,0,1) if not (i == j == 0)]\n",
    "adjacency"
   ]
  },
  {
   "cell_type": "code",
   "execution_count": null,
   "metadata": {},
   "outputs": [],
   "source": []
  }
 ],
 "metadata": {
  "kernelspec": {
   "display_name": "Python 3",
   "language": "python",
   "name": "python3"
  },
  "language_info": {
   "codemirror_mode": {
    "name": "ipython",
    "version": 3
   },
   "file_extension": ".py",
   "mimetype": "text/x-python",
   "name": "python",
   "nbconvert_exporter": "python",
   "pygments_lexer": "ipython3",
   "version": "3.9.4"
  },
  "toc": {
   "base_numbering": 1,
   "nav_menu": {},
   "number_sections": true,
   "sideBar": true,
   "skip_h1_title": false,
   "title_cell": "Table of Contents",
   "title_sidebar": "Contents",
   "toc_cell": false,
   "toc_position": {},
   "toc_section_display": true,
   "toc_window_display": false
  }
 },
 "nbformat": 4,
 "nbformat_minor": 2
}
