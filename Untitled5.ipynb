{
 "cells": [
  {
   "cell_type": "code",
   "execution_count": 2,
   "id": "0c9f436e",
   "metadata": {
    "ExecuteTime": {
     "end_time": "2021-04-21T18:02:02.705384Z",
     "start_time": "2021-04-21T18:02:02.606894Z"
    }
   },
   "outputs": [],
   "source": [
    "import numpy as np"
   ]
  },
  {
   "cell_type": "code",
   "execution_count": 3,
   "id": "6d0c8734",
   "metadata": {
    "ExecuteTime": {
     "end_time": "2021-04-21T18:02:02.716809Z",
     "start_time": "2021-04-21T18:02:02.708129Z"
    }
   },
   "outputs": [],
   "source": [
    "from dataclasses import dataclass\n",
    "\n",
    "@dataclass\n",
    "class Chunk:\n",
    "    length: int\n",
    "    value: int"
   ]
  },
  {
   "cell_type": "code",
   "execution_count": 6,
   "id": "8c72e8bf",
   "metadata": {
    "ExecuteTime": {
     "end_time": "2021-04-21T18:07:04.617218Z",
     "start_time": "2021-04-21T18:07:04.608890Z"
    }
   },
   "outputs": [
    {
     "data": {
      "text/plain": [
       "array([2, 1, 3, 2, 2])"
      ]
     },
     "execution_count": 6,
     "metadata": {},
     "output_type": "execute_result"
    }
   ],
   "source": [
    "numbers = [5, 5, 4, 5, 5, 5, 4, 5, 6]\n",
    "numbers = [1,3,4,7,9,11]\n",
    "diffs = np.diff(numbers)\n",
    "diffs"
   ]
  },
  {
   "cell_type": "code",
   "execution_count": 7,
   "id": "6149f634",
   "metadata": {
    "ExecuteTime": {
     "end_time": "2021-04-21T18:07:12.324626Z",
     "start_time": "2021-04-21T18:07:12.315603Z"
    }
   },
   "outputs": [
    {
     "data": {
      "text/plain": [
       "{0: Chunk(length=1, value=2),\n",
       " 1: Chunk(length=1, value=1),\n",
       " 2: Chunk(length=1, value=3),\n",
       " 3: Chunk(length=2, value=2)}"
      ]
     },
     "execution_count": 7,
     "metadata": {},
     "output_type": "execute_result"
    }
   ],
   "source": [
    "start = 0\n",
    "chunks = dict()\n",
    "for end in range(len(diffs)):\n",
    "    if (diffs[end] != diffs[start]):\n",
    "        chunks[start] = Chunk(value=diffs[start], length=end - start)\n",
    "        start = end\n",
    "chunks[start] = Chunk(value=diffs[start], length=end - start + 1)\n",
    "\n",
    "chunks"
   ]
  },
  {
   "cell_type": "code",
   "execution_count": null,
   "id": "d0a4fcfa",
   "metadata": {},
   "outputs": [],
   "source": []
  }
 ],
 "metadata": {
  "kernelspec": {
   "display_name": "google",
   "language": "python",
   "name": "google"
  },
  "language_info": {
   "codemirror_mode": {
    "name": "ipython",
    "version": 3
   },
   "file_extension": ".py",
   "mimetype": "text/x-python",
   "name": "python",
   "nbconvert_exporter": "python",
   "pygments_lexer": "ipython3",
   "version": "3.7.3"
  },
  "toc": {
   "base_numbering": 1,
   "nav_menu": {},
   "number_sections": true,
   "sideBar": true,
   "skip_h1_title": false,
   "title_cell": "Table of Contents",
   "title_sidebar": "Contents",
   "toc_cell": false,
   "toc_position": {},
   "toc_section_display": true,
   "toc_window_display": false
  }
 },
 "nbformat": 4,
 "nbformat_minor": 5
}
