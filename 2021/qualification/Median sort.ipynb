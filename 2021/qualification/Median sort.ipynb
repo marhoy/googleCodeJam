{
 "cells": [
  {
   "cell_type": "code",
   "execution_count": 1,
   "id": "concrete-monkey",
   "metadata": {
    "ExecuteTime": {
     "end_time": "2021-03-27T08:03:35.361845Z",
     "start_time": "2021-03-27T08:03:35.223300Z"
    }
   },
   "outputs": [],
   "source": [
    "import random\n",
    "\n",
    "import numpy as np"
   ]
  },
  {
   "cell_type": "code",
   "execution_count": 92,
   "id": "ideal-advantage",
   "metadata": {
    "ExecuteTime": {
     "end_time": "2021-03-27T08:37:11.997780Z",
     "start_time": "2021-03-27T08:37:11.988956Z"
    }
   },
   "outputs": [],
   "source": [
    "def median(i, j, k):\n",
    "    global N_QUERIES\n",
    "    N_QUERIES += 1\n",
    "    vals = {VALUES[x - 1]:x for x in [i, j, k]}\n",
    "    med = int(np.median(list(vals.keys())))\n",
    "    print(f\"Queried with {i},{j},{k} -> {vals[med]}\")\n",
    "    return vals[med]"
   ]
  },
  {
   "cell_type": "code",
   "execution_count": 96,
   "id": "waiting-beauty",
   "metadata": {
    "ExecuteTime": {
     "end_time": "2021-03-27T08:39:04.560556Z",
     "start_time": "2021-03-27T08:39:04.556968Z"
    }
   },
   "outputs": [],
   "source": [
    "N = 20\n",
    "\n",
    "VALUES = list(range(1, N + 1))\n",
    "random.shuffle(VALUES)"
   ]
  },
  {
   "cell_type": "code",
   "execution_count": 97,
   "id": "executive-trust",
   "metadata": {
    "ExecuteTime": {
     "end_time": "2021-03-27T08:39:05.009548Z",
     "start_time": "2021-03-27T08:39:05.006428Z"
    }
   },
   "outputs": [],
   "source": [
    "data = [2, 1]\n",
    "N_QUERIES = 0"
   ]
  },
  {
   "cell_type": "code",
   "execution_count": 98,
   "id": "configured-criminal",
   "metadata": {
    "ExecuteTime": {
     "end_time": "2021-03-27T08:39:05.181861Z",
     "start_time": "2021-03-27T08:39:05.142721Z"
    }
   },
   "outputs": [
    {
     "name": "stdout",
     "output_type": "stream",
     "text": [
      "Queried with 2,3,1 -> 3\n",
      "What to do? 3 goes between 2 and 1: [2, 1]\n",
      "Queried with 2,4,1 -> 2\n",
      "Queried with 4,5,1 -> 1\n",
      "Queried with 4,6,5 -> 6\n",
      "What to do? 6 goes between 4 and 5: [4, 2, 3, 1, 5]\n",
      "Queried with 3,6,5 -> 3\n",
      "What to do? 6 goes between 4 and 3: [4, 2, 3, 1, 5]\n",
      "Queried with 2,6,3 -> 2\n",
      "What to do? 6 goes between 4 and 2: [4, 2, 3, 1, 5]\n",
      "Queried with 4,7,5 -> 4\n",
      "Queried with 7,8,5 -> 8\n",
      "What to do? 8 goes between 7 and 5: [7, 4, 6, 2, 3, 1, 5]\n",
      "Queried with 2,8,5 -> 8\n",
      "What to do? 8 goes between 2 and 5: [7, 4, 6, 2, 3, 1, 5]\n",
      "Queried with 3,8,5 -> 8\n",
      "What to do? 8 goes between 3 and 5: [7, 4, 6, 2, 3, 1, 5]\n",
      "Queried with 1,8,5 -> 8\n",
      "What to do? 8 goes between 1 and 5: [7, 4, 6, 2, 3, 1, 5]\n",
      "Queried with 7,9,5 -> 9\n",
      "What to do? 9 goes between 7 and 5: [7, 4, 6, 2, 3, 1, 8, 5]\n",
      "Queried with 2,9,5 -> 2\n",
      "What to do? 9 goes between 7 and 2: [7, 4, 6, 2, 3, 1, 8, 5]\n",
      "Queried with 4,9,2 -> 9\n",
      "What to do? 9 goes between 4 and 2: [7, 4, 6, 2, 3, 1, 8, 5]\n",
      "Queried with 6,9,2 -> 9\n",
      "What to do? 9 goes between 6 and 2: [7, 4, 6, 2, 3, 1, 8, 5]\n",
      "Queried with 7,10,5 -> 5\n",
      "Queried with 7,11,10 -> 11\n",
      "What to do? 11 goes between 7 and 10: [7, 4, 6, 9, 2, 3, 1, 8, 5, 10]\n",
      "Queried with 2,11,10 -> 2\n",
      "What to do? 11 goes between 7 and 2: [7, 4, 6, 9, 2, 3, 1, 8, 5, 10]\n",
      "Queried with 6,11,2 -> 6\n",
      "What to do? 11 goes between 7 and 6: [7, 4, 6, 9, 2, 3, 1, 8, 5, 10]\n",
      "Queried with 4,11,6 -> 4\n",
      "What to do? 11 goes between 7 and 4: [7, 4, 6, 9, 2, 3, 1, 8, 5, 10]\n",
      "Queried with 7,12,10 -> 12\n",
      "What to do? 12 goes between 7 and 10: [7, 11, 4, 6, 9, 2, 3, 1, 8, 5, 10]\n",
      "Queried with 2,12,10 -> 12\n",
      "What to do? 12 goes between 2 and 10: [7, 11, 4, 6, 9, 2, 3, 1, 8, 5, 10]\n",
      "Queried with 1,12,10 -> 12\n",
      "What to do? 12 goes between 1 and 10: [7, 11, 4, 6, 9, 2, 3, 1, 8, 5, 10]\n",
      "Queried with 8,12,10 -> 12\n",
      "What to do? 12 goes between 8 and 10: [7, 11, 4, 6, 9, 2, 3, 1, 8, 5, 10]\n",
      "Queried with 5,12,10 -> 5\n",
      "What to do? 12 goes between 8 and 5: [7, 11, 4, 6, 9, 2, 3, 1, 8, 5, 10]\n",
      "Queried with 7,13,10 -> 13\n",
      "What to do? 13 goes between 7 and 10: [7, 11, 4, 6, 9, 2, 3, 1, 8, 12, 5, 10]\n",
      "Queried with 2,13,10 -> 2\n",
      "What to do? 13 goes between 7 and 2: [7, 11, 4, 6, 9, 2, 3, 1, 8, 12, 5, 10]\n",
      "Queried with 4,13,2 -> 13\n",
      "What to do? 13 goes between 4 and 2: [7, 11, 4, 6, 9, 2, 3, 1, 8, 12, 5, 10]\n",
      "Queried with 6,13,2 -> 13\n",
      "What to do? 13 goes between 6 and 2: [7, 11, 4, 6, 9, 2, 3, 1, 8, 12, 5, 10]\n",
      "Queried with 9,13,2 -> 9\n",
      "What to do? 13 goes between 6 and 9: [7, 11, 4, 6, 9, 2, 3, 1, 8, 12, 5, 10]\n",
      "Queried with 7,14,10 -> 14\n",
      "What to do? 14 goes between 7 and 10: [7, 11, 4, 6, 13, 9, 2, 3, 1, 8, 12, 5, 10]\n",
      "Queried with 2,14,10 -> 14\n",
      "What to do? 14 goes between 2 and 10: [7, 11, 4, 6, 13, 9, 2, 3, 1, 8, 12, 5, 10]\n",
      "Queried with 8,14,10 -> 8\n",
      "What to do? 14 goes between 2 and 8: [7, 11, 4, 6, 13, 9, 2, 3, 1, 8, 12, 5, 10]\n",
      "Queried with 3,14,8 -> 3\n",
      "What to do? 14 goes between 2 and 3: [7, 11, 4, 6, 13, 9, 2, 3, 1, 8, 12, 5, 10]\n",
      "Queried with 7,15,10 -> 15\n",
      "What to do? 15 goes between 7 and 10: [7, 11, 4, 6, 13, 9, 2, 14, 3, 1, 8, 12, 5, 10]\n",
      "Queried with 2,15,10 -> 2\n",
      "What to do? 15 goes between 7 and 2: [7, 11, 4, 6, 13, 9, 2, 14, 3, 1, 8, 12, 5, 10]\n",
      "Queried with 6,15,2 -> 15\n",
      "What to do? 15 goes between 6 and 2: [7, 11, 4, 6, 13, 9, 2, 14, 3, 1, 8, 12, 5, 10]\n",
      "Queried with 13,15,2 -> 15\n",
      "What to do? 15 goes between 13 and 2: [7, 11, 4, 6, 13, 9, 2, 14, 3, 1, 8, 12, 5, 10]\n",
      "Queried with 9,15,2 -> 9\n",
      "What to do? 15 goes between 13 and 9: [7, 11, 4, 6, 13, 9, 2, 14, 3, 1, 8, 12, 5, 10]\n",
      "Queried with 7,16,10 -> 16\n",
      "What to do? 16 goes between 7 and 10: [7, 11, 4, 6, 13, 15, 9, 2, 14, 3, 1, 8, 12, 5, 10]\n",
      "Queried with 2,16,10 -> 16\n",
      "What to do? 16 goes between 2 and 10: [7, 11, 4, 6, 13, 15, 9, 2, 14, 3, 1, 8, 12, 5, 10]\n",
      "Queried with 1,16,10 -> 16\n",
      "What to do? 16 goes between 1 and 10: [7, 11, 4, 6, 13, 15, 9, 2, 14, 3, 1, 8, 12, 5, 10]\n",
      "Queried with 12,16,10 -> 12\n",
      "What to do? 16 goes between 1 and 12: [7, 11, 4, 6, 13, 15, 9, 2, 14, 3, 1, 8, 12, 5, 10]\n",
      "Queried with 8,16,12 -> 8\n",
      "What to do? 16 goes between 1 and 8: [7, 11, 4, 6, 13, 15, 9, 2, 14, 3, 1, 8, 12, 5, 10]\n",
      "Queried with 7,17,10 -> 17\n",
      "What to do? 17 goes between 7 and 10: [7, 11, 4, 6, 13, 15, 9, 2, 14, 3, 1, 16, 8, 12, 5, 10]\n",
      "Queried with 2,17,10 -> 2\n",
      "What to do? 17 goes between 7 and 2: [7, 11, 4, 6, 13, 15, 9, 2, 14, 3, 1, 16, 8, 12, 5, 10]\n",
      "Queried with 6,17,2 -> 17\n",
      "What to do? 17 goes between 6 and 2: [7, 11, 4, 6, 13, 15, 9, 2, 14, 3, 1, 16, 8, 12, 5, 10]\n",
      "Queried with 15,17,2 -> 15\n",
      "What to do? 17 goes between 6 and 15: [7, 11, 4, 6, 13, 15, 9, 2, 14, 3, 1, 16, 8, 12, 5, 10]\n",
      "Queried with 13,17,15 -> 13\n",
      "What to do? 17 goes between 6 and 13: [7, 11, 4, 6, 13, 15, 9, 2, 14, 3, 1, 16, 8, 12, 5, 10]\n",
      "Queried with 7,18,10 -> 18\n",
      "What to do? 18 goes between 7 and 10: [7, 11, 4, 6, 17, 13, 15, 9, 2, 14, 3, 1, 16, 8, 12, 5, 10]\n",
      "Queried with 2,18,10 -> 2\n",
      "What to do? 18 goes between 7 and 2: [7, 11, 4, 6, 17, 13, 15, 9, 2, 14, 3, 1, 16, 8, 12, 5, 10]\n",
      "Queried with 17,18,2 -> 18\n",
      "What to do? 18 goes between 17 and 2: [7, 11, 4, 6, 17, 13, 15, 9, 2, 14, 3, 1, 16, 8, 12, 5, 10]\n",
      "Queried with 15,18,2 -> 15\n",
      "What to do? 18 goes between 17 and 15: [7, 11, 4, 6, 17, 13, 15, 9, 2, 14, 3, 1, 16, 8, 12, 5, 10]\n",
      "Queried with 13,18,15 -> 13\n",
      "What to do? 18 goes between 17 and 13: [7, 11, 4, 6, 17, 13, 15, 9, 2, 14, 3, 1, 16, 8, 12, 5, 10]\n",
      "Queried with 7,19,10 -> 19\n",
      "What to do? 19 goes between 7 and 10: [7, 11, 4, 6, 17, 18, 13, 15, 9, 2, 14, 3, 1, 16, 8, 12, 5, 10]\n",
      "Queried with 9,19,10 -> 9\n",
      "What to do? 19 goes between 7 and 9: [7, 11, 4, 6, 17, 18, 13, 15, 9, 2, 14, 3, 1, 16, 8, 12, 5, 10]\n",
      "Queried with 17,19,9 -> 17\n",
      "What to do? 19 goes between 7 and 17: [7, 11, 4, 6, 17, 18, 13, 15, 9, 2, 14, 3, 1, 16, 8, 12, 5, 10]\n",
      "Queried with 4,19,17 -> 4\n",
      "What to do? 19 goes between 7 and 4: [7, 11, 4, 6, 17, 18, 13, 15, 9, 2, 14, 3, 1, 16, 8, 12, 5, 10]\n",
      "Queried with 11,19,4 -> 11\n",
      "What to do? 19 goes between 7 and 11: [7, 11, 4, 6, 17, 18, 13, 15, 9, 2, 14, 3, 1, 16, 8, 12, 5, 10]\n",
      "Queried with 7,20,10 -> 20\n",
      "What to do? 20 goes between 7 and 10: [7, 19, 11, 4, 6, 17, 18, 13, 15, 9, 2, 14, 3, 1, 16, 8, 12, 5, 10]\n",
      "Queried with 9,20,10 -> 20\n",
      "What to do? 20 goes between 9 and 10: [7, 19, 11, 4, 6, 17, 18, 13, 15, 9, 2, 14, 3, 1, 16, 8, 12, 5, 10]\n",
      "Queried with 1,20,10 -> 1\n",
      "What to do? 20 goes between 9 and 1: [7, 19, 11, 4, 6, 17, 18, 13, 15, 9, 2, 14, 3, 1, 16, 8, 12, 5, 10]\n",
      "Queried with 14,20,1 -> 14\n",
      "What to do? 20 goes between 9 and 14: [7, 19, 11, 4, 6, 17, 18, 13, 15, 9, 2, 14, 3, 1, 16, 8, 12, 5, 10]\n",
      "Queried with 2,20,14 -> 2\n",
      "What to do? 20 goes between 9 and 2: [7, 19, 11, 4, 6, 17, 18, 13, 15, 9, 2, 14, 3, 1, 16, 8, 12, 5, 10]\n",
      "[7, 19, 11, 4, 6, 17, 18, 13, 15, 9, 20, 2, 14, 3, 1, 16, 8, 12, 5, 10]\n",
      "64\n"
     ]
    }
   ],
   "source": [
    "for i in range(3, N + 1):\n",
    "    left_pos, right_pos = 0, len(data) - 1\n",
    "    insert_point = None\n",
    "    while insert_point is None:\n",
    "        med = median(data[left_pos], i, data[right_pos])\n",
    "        if (med == data[left_pos]) and (left_pos == 0):\n",
    "            insert_point = 0  # Append on left side\n",
    "        elif (med == data[right_pos]) and (right_pos == len(data) - 1):\n",
    "            insert_point = len(data)  # Append on right side\n",
    "        else:\n",
    "            while insert_point is None:\n",
    "                print(f\"What to do? {i} goes between {data[left_pos]} and {data[right_pos]}: {data}\" )\n",
    "                candidate = (left_pos + right_pos) // 2\n",
    "                if candidate == left_pos:\n",
    "                    insert_point = left_pos + 1\n",
    "                else:\n",
    "                    med = median(data[candidate], i, data[right_pos])\n",
    "                    if med == i:\n",
    "                        left_pos = candidate\n",
    "                    elif med == data[candidate]:\n",
    "                        right_pos = candidate\n",
    "\n",
    "    data.insert(insert_point, i)\n",
    "\n",
    "print(data)\n",
    "print(N_QUERIES)"
   ]
  },
  {
   "cell_type": "code",
   "execution_count": 91,
   "id": "confirmed-fraction",
   "metadata": {
    "ExecuteTime": {
     "end_time": "2021-03-27T08:24:57.705015Z",
     "start_time": "2021-03-27T08:24:57.699668Z"
    }
   },
   "outputs": [
    {
     "name": "stdout",
     "output_type": "stream",
     "text": [
      "43 41 44 30 22 37 12 11 42 33 5 31 18 46 2 17 28 4 40 15 7 23 1 50 16 38 13 19 35 20 27 39 45 29 24 10 14 48 9 47 34 49 25 21 3 6 32 8 36 26\n"
     ]
    }
   ],
   "source": [
    "print(\" \".join(map(str, data)), flush=True)"
   ]
  },
  {
   "cell_type": "code",
   "execution_count": null,
   "id": "stretch-auction",
   "metadata": {},
   "outputs": [],
   "source": []
  }
 ],
 "metadata": {
  "kernelspec": {
   "display_name": "GoogleCode",
   "language": "python",
   "name": "googlecode"
  },
  "language_info": {
   "codemirror_mode": {
    "name": "ipython",
    "version": 3
   },
   "file_extension": ".py",
   "mimetype": "text/x-python",
   "name": "python",
   "nbconvert_exporter": "python",
   "pygments_lexer": "ipython3",
   "version": "3.7.3"
  },
  "toc": {
   "base_numbering": 1,
   "nav_menu": {},
   "number_sections": true,
   "sideBar": true,
   "skip_h1_title": false,
   "title_cell": "Table of Contents",
   "title_sidebar": "Contents",
   "toc_cell": false,
   "toc_position": {},
   "toc_section_display": true,
   "toc_window_display": false
  }
 },
 "nbformat": 4,
 "nbformat_minor": 5
}
